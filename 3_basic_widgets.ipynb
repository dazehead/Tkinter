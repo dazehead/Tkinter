{
 "cells": [
  {
   "cell_type": "markdown",
   "metadata": {},
   "source": [
    "<h1>Basic Widgets</h1>"
   ]
  },
  {
   "cell_type": "markdown",
   "metadata": {},
   "source": [
    "<li> <a href=\"https://tkdocs.com/widgets/index.html\">Widget Roundup</li> \n",
    "<li> <a href=\"https://tcl.tk/man/tcl8.6/TkCmd/contents.html\">Tk reference manual page</li>"
   ]
  },
  {
   "cell_type": "markdown",
   "metadata": {},
   "source": [
    "<h3>Frame</h3>"
   ]
  },
  {
   "cell_type": "markdown",
   "metadata": {},
   "source": [
    "Frames are created using the `ttk.Frame` class:<br>\n",
    "`frame = ttk.Frame(parent)`"
   ]
  },
  {
   "cell_type": "code",
   "execution_count": 14,
   "metadata": {},
   "outputs": [],
   "source": [
    "from tkinter import *\n",
    "from tkinter import ttk\n",
    "\n",
    "root = Tk()\n",
    "frame = ttk.Frame(root)"
   ]
  },
  {
   "cell_type": "markdown",
   "metadata": {},
   "source": [
    "<h5>Requested Size</h5>"
   ]
  },
  {
   "cell_type": "markdown",
   "metadata": {},
   "source": [
    "you can explicility set a frames side using the `width` and/or `height` configuration options. These are usually specified as the number of pixels."
   ]
  },
  {
   "cell_type": "markdown",
   "metadata": {},
   "source": [
    "<h5>Padding</h5>"
   ]
  },
  {
   "cell_type": "markdown",
   "metadata": {},
   "source": [
    "the `padding` configuration is used to request extra space around the inside of the widget."
   ]
  },
  {
   "cell_type": "code",
   "execution_count": 15,
   "metadata": {},
   "outputs": [],
   "source": [
    "frame['padding'] = 5           # 5 pixels on all sides\n",
    "frame['padding'] = (5,10)      # 5 on left and right, 10 on top and bottom\n",
    "frame['padding'] = (5,7,10,12) # left: 5, top: 7, right: 10, bottom: 12\n",
    "\n",
    "#root.mainloop()"
   ]
  },
  {
   "cell_type": "markdown",
   "metadata": {},
   "source": [
    "<h5>Borders</h5>"
   ]
  },
  {
   "cell_type": "markdown",
   "metadata": {},
   "source": [
    "`borderwidth` configuration along with the `relief` option can create borders and visual appearances.<br>\n",
    "`relief` can be one of `flat` (default), `raised`, `sunken`, `solid`, `ridge`, `groove`"
   ]
  },
  {
   "cell_type": "code",
   "execution_count": 16,
   "metadata": {},
   "outputs": [],
   "source": [
    "frame['borderwidth'] = 2\n",
    "frame['relief'] = 'sunken'\n",
    "\n",
    "frame.configure(borderwidth=2, relief='sunken')\n",
    "\n",
    "#root.mainloop()"
   ]
  },
  {
   "cell_type": "markdown",
   "metadata": {},
   "source": [
    "<h5>Changin Styles</h5>"
   ]
  },
  {
   "cell_type": "markdown",
   "metadata": {},
   "source": [
    "Frames have a `style` configuration option to control many aspects of their appearance."
   ]
  },
  {
   "cell_type": "code",
   "execution_count": 17,
   "metadata": {},
   "outputs": [],
   "source": [
    "s = ttk.Style()\n",
    "s.configure('Danger.TFrame', background='red', borderwidth=5, relief='raised')\n",
    "ttk.Frame(root, width=200, height=200, style='Danger.TFrame').grid()\n",
    "\n",
    "root.mainloop()"
   ]
  }
 ],
 "metadata": {
  "kernelspec": {
   "display_name": "venv",
   "language": "python",
   "name": "python3"
  },
  "language_info": {
   "codemirror_mode": {
    "name": "ipython",
    "version": 3
   },
   "file_extension": ".py",
   "mimetype": "text/x-python",
   "name": "python",
   "nbconvert_exporter": "python",
   "pygments_lexer": "ipython3",
   "version": "3.10.11"
  }
 },
 "nbformat": 4,
 "nbformat_minor": 2
}
