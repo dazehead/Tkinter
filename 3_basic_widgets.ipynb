{
 "cells": [
  {
   "cell_type": "markdown",
   "metadata": {},
   "source": [
    "<h1>Basic Widgets</h1>"
   ]
  },
  {
   "cell_type": "markdown",
   "metadata": {},
   "source": [
    "<li> <a href=\"https://tkdocs.com/widgets/index.html\">Widget Roundup</li> \n",
    "<li> <a href=\"https://tcl.tk/man/tcl8.6/TkCmd/contents.html\">Tk reference manual page</li>"
   ]
  },
  {
   "cell_type": "markdown",
   "metadata": {},
   "source": [
    "<h3>Frame</h3>"
   ]
  },
  {
   "cell_type": "markdown",
   "metadata": {},
   "source": [
    "Frames are created using the `ttk.Frame` class:<br>\n",
    "`frame = ttk.Frame(parent)`"
   ]
  },
  {
   "cell_type": "code",
   "execution_count": null,
   "metadata": {},
   "outputs": [],
   "source": [
    "from tkinter import *\n",
    "from tkinter import ttk\n",
    "\n",
    "root = Tk()\n",
    "frame = ttk.Frame(root)"
   ]
  },
  {
   "cell_type": "markdown",
   "metadata": {},
   "source": [
    "<h5>Requested Size</h5>"
   ]
  },
  {
   "cell_type": "markdown",
   "metadata": {},
   "source": [
    "you can explicility set a frames side using the `width` and/or `height` configuration options. These are usually specified as the number of pixels."
   ]
  },
  {
   "cell_type": "markdown",
   "metadata": {},
   "source": [
    "<h5>Padding</h5>"
   ]
  },
  {
   "cell_type": "markdown",
   "metadata": {},
   "source": [
    "the `padding` configuration is used to request extra space around the inside of the widget."
   ]
  },
  {
   "cell_type": "code",
   "execution_count": null,
   "metadata": {},
   "outputs": [],
   "source": [
    "frame['padding'] = 5           # 5 pixels on all sides\n",
    "frame['padding'] = (5,10)      # 5 on left and right, 10 on top and bottom\n",
    "frame['padding'] = (5,7,10,12) # left: 5, top: 7, right: 10, bottom: 12\n",
    "\n",
    "#root.mainloop()"
   ]
  },
  {
   "cell_type": "markdown",
   "metadata": {},
   "source": [
    "<h5>Borders</h5>"
   ]
  },
  {
   "cell_type": "markdown",
   "metadata": {},
   "source": [
    "`borderwidth` configuration along with the `relief` option can create borders and visual appearances.<br>\n",
    "`relief` can be one of `flat` (default), `raised`, `sunken`, `solid`, `ridge`, `groove`"
   ]
  },
  {
   "cell_type": "code",
   "execution_count": null,
   "metadata": {},
   "outputs": [],
   "source": [
    "frame['borderwidth'] = 2\n",
    "frame['relief'] = 'sunken'\n",
    "\n",
    "frame.configure(borderwidth=2, relief='sunken')\n",
    "\n",
    "#root.mainloop()"
   ]
  },
  {
   "cell_type": "markdown",
   "metadata": {},
   "source": [
    "<h5>Changin Styles</h5>"
   ]
  },
  {
   "cell_type": "markdown",
   "metadata": {},
   "source": [
    "Frames have a `style` configuration option to control many aspects of their appearance."
   ]
  },
  {
   "cell_type": "code",
   "execution_count": null,
   "metadata": {},
   "outputs": [],
   "source": [
    "# here we instantiate a style\n",
    "s = ttk.Style()\n",
    "# here we create our own style first is a nmae then what the style is\n",
    "s.configure('Danger.TFrame', background='red', borderwidth=5, relief='raised')\n",
    "# now we can call it in the style parameter to reference it\n",
    "ttk.Frame(root, width=200, height=200, style='Danger.TFrame').grid()\n",
    "\n",
    "#root.mainloop()"
   ]
  },
  {
   "cell_type": "markdown",
   "metadata": {},
   "source": [
    "<h3>Label</h3>"
   ]
  },
  {
   "cell_type": "markdown",
   "metadata": {},
   "source": [
    "<li> <a href=\"https://tkdocs.com/widgets/index.html\">Widget Roundup</li> \n",
    "<li> <a href=\"https://tcl.tk/man/tcl8.6/TkCmd/contents.html\">Tk reference manual page</li>"
   ]
  },
  {
   "cell_type": "markdown",
   "metadata": {},
   "source": [
    "a widget that displays text or images, usually no interaction are with these.\n",
    "create a lable with `ttk.Label` class."
   ]
  },
  {
   "cell_type": "code",
   "execution_count": null,
   "metadata": {},
   "outputs": [],
   "source": [
    "#frame.grid()\n",
    "\n",
    "label = ttk.Label(frame, text=\"Devan Veach\")\n",
    "label.grid()\n",
    "\n",
    "#root.mainloop()"
   ]
  },
  {
   "cell_type": "markdown",
   "metadata": {},
   "source": [
    "<h5>Displaying Text</h5>"
   ]
  },
  {
   "cell_type": "markdown",
   "metadata": {},
   "source": [
    "Tkinter only allows you to attach widgets to an instance of the StringVar class but not arbitrary Python variables. This class contains all the logic to watch for changes and communicate them back and forth between the variable and Tk. Use the get and set methods to read or write the current value of the variable."
   ]
  },
  {
   "cell_type": "code",
   "execution_count": null,
   "metadata": {},
   "outputs": [],
   "source": [
    "frame.grid()\n",
    "\n",
    "resultsContents = StringVar()\n",
    "label['textvariable'] = resultsContents\n",
    "#label.configure(textvariable=resultsContents)\n",
    "resultsContents.set(\"New value to display\")\n",
    "\n",
    "frame.mainloop()"
   ]
  },
  {
   "cell_type": "markdown",
   "metadata": {},
   "source": [
    "<h5>Displaying Images</h5>"
   ]
  },
  {
   "cell_type": "markdown",
   "metadata": {},
   "source": [
    "tkinter can only handle certain data datatypes pairing it with python pillow module or PIL we can resize and reformat images to work with tkinter"
   ]
  },
  {
   "cell_type": "code",
   "execution_count": null,
   "metadata": {},
   "outputs": [],
   "source": [
    "# resize an image using pillow\n",
    "from PIL import Image\n",
    "image = Image.open('images/cute.gif')\n",
    "resized_image = image.resize((200,200))\n",
    "resized_image.save(\"images/resized_cute.gif\")\n",
    "resized_image.show()"
   ]
  },
  {
   "cell_type": "code",
   "execution_count": 21,
   "metadata": {},
   "outputs": [],
   "source": [
    "#changing format \n",
    "from PIL import Image\n",
    "image = Image.open('images/pecos_bill.jpg')\n",
    "image = image.resize((500,500))\n",
    "image.save('images/pecos_bill.png', format='PNG')\n"
   ]
  },
  {
   "cell_type": "markdown",
   "metadata": {},
   "source": [
    "Labels can also hold images normally you have create an image object first then asign it to the lables image configuration"
   ]
  },
  {
   "cell_type": "code",
   "execution_count": null,
   "metadata": {},
   "outputs": [],
   "source": [
    "from tkinter import *\n",
    "from tkinter import ttk\n",
    "root = Tk()\n",
    "frame = ttk.Frame(root)\n",
    "frame.grid()\n",
    "label = ttk.Label(frame, text=\"Devan Veach\")\n",
    "label.grid()\n",
    "\n",
    "image = PhotoImage(file='images/pecos_bill.png', height=600, width=600)\n",
    "label.configure(image=image)\n",
    "#label.configure(image=image, compound=BOTTOM)\n",
    "\n",
    "root.mainloop()"
   ]
  },
  {
   "cell_type": "markdown",
   "metadata": {},
   "source": [
    "<h5>Fonts, Colors, and More"
   ]
  },
  {
   "cell_type": "markdown",
   "metadata": {},
   "source": [
    "`TkDefaultFont`\n",
    "Default for all GUI items not otherwise specified.<br>\n",
    "`TkTextFont`\n",
    "Used for entry widgets, listboxes, etc.<br>\n",
    "`TkFixedFont`\n",
    "A standard fixed-width font.<br>\n",
    "`TkMenuFont`\n",
    "The font used for menu items.<br>\n",
    "`TkHeadingFont`\n",
    "A font for column headings in lists and tables.<br>\n",
    "`TkCaptionFont`\n",
    "A font for window and dialog caption bars.<br>\n",
    "`TkSmallCaptionFont`\n",
    "Smaller captions for subwindows or tool dialogs.<br>\n",
    "`TkIconFont`\n",
    "A font for icon captions.<br>\n",
    "`TkTooltipFont`\n",
    "A font for tooltips."
   ]
  },
  {
   "cell_type": "code",
   "execution_count": null,
   "metadata": {},
   "outputs": [],
   "source": [
    "from tkinter import *\n",
    "from tkinter import ttk\n",
    "root = Tk()\n",
    "frame = ttk.Frame(root)\n",
    "frame.grid()\n",
    "\n",
    "label = ttk.Label(frame, text=\"Devan Veach\")\n",
    "label['font'] = 'TkMenuFont'\n",
    "\n",
    "#can also change background color foreground and relief\n",
    "label.configure(background='purple', foreground='white', relief='sunken')\n",
    "label.grid()\n",
    "\n",
    "\n",
    "root.mainloop()"
   ]
  },
  {
   "cell_type": "markdown",
   "metadata": {},
   "source": [
    "<h5>Layout</h5>"
   ]
  },
  {
   "cell_type": "markdown",
   "metadata": {},
   "source": [
    "geometry manager (grid) controls the size and location of the elements inside, a good tip is if soemthing is not lining up change background color to see where it is.<br>\n",
    "`grid`<br>\n",
    "`sticky`<br>\n",
    "`anchor`"
   ]
  },
  {
   "cell_type": "markdown",
   "metadata": {},
   "source": [
    "<h5> Multi-line Labels</h5>"
   ]
  },
  {
   "cell_type": "markdown",
   "metadata": {},
   "source": [
    "You can embed `\\n` in the `text` or `textvariable` string.<br>\n",
    "Labels can also warp via the `wraplength` option, which specifies the maximum length of a line in pixels, centimeters, etc.<br>\n",
    "`justify` option can also control how text is justified using `left`, `center`, `right`; however, if you have only a single line of text you probobly want the `anchor` option istead."
   ]
  },
  {
   "cell_type": "markdown",
   "metadata": {},
   "source": [
    "<h2>Button</h2>"
   ]
  },
  {
   "cell_type": "markdown",
   "metadata": {},
   "source": [
    "<li> <a href=\"https://tkdocs.com/widgets/index.html\">Widget Roundup</li> \n",
    "<li> <a href=\"https://tcl.tk/man/tcl8.6/TkCmd/contents.html\">Tk reference manual page</li>"
   ]
  },
  {
   "cell_type": "markdown",
   "metadata": {},
   "source": [
    "buttons are made to interact with they can display tet or images and typically their contents command a callback. We can also alter their appearance behavior including the standard `style` option"
   ]
  },
  {
   "cell_type": "code",
   "execution_count": 35,
   "metadata": {},
   "outputs": [],
   "source": [
    "from tkinter import *\n",
    "from tkinter import ttk\n",
    "\n",
    "def submitForm():\n",
    "    pass\n",
    "\n",
    "root = Tk()\n",
    "frame = ttk.Frame(root)\n",
    "frame.grid()\n",
    "\n",
    "button = ttk.Button(frame, text='Okay', command=submitForm)\n",
    "button.grid()\n",
    "\n",
    "root.mainloop()"
   ]
  },
  {
   "cell_type": "markdown",
   "metadata": {},
   "source": [
    "<h5>Text or Image</h5>"
   ]
  },
  {
   "cell_type": "markdown",
   "metadata": {},
   "source": [
    "Buttons take the same `text`, `textvariable` and `compound` you can use `image` but rarely used.<br>\n",
    "Buttons have a `default` cofniguration if we specify it to `active` then if user hits ENTER or RETURN key it will set that button "
   ]
  },
  {
   "cell_type": "markdown",
   "metadata": {},
   "source": [
    "<h5>The Command Callback</h5>"
   ]
  },
  {
   "cell_type": "markdown",
   "metadata": {},
   "source": [
    "`command` option connects the button's action and your application.\n",
    "in the below example there isn't an actuall button in the frame but when you push enter it still prints to the console."
   ]
  },
  {
   "cell_type": "code",
   "execution_count": 36,
   "metadata": {},
   "outputs": [
    {
     "name": "stdout",
     "output_type": "stream",
     "text": [
      "you pressed enter button\n"
     ]
    }
   ],
   "source": [
    "from tkinter import *\n",
    "from tkinter import ttk\n",
    "\n",
    "def myaction():\n",
    "    print('you pressed enter button')\n",
    "\n",
    "root = Tk()\n",
    "action = ttk.Button(root, text=\"Action\", default=\"active\", command=myaction)\n",
    "root.bind('<Return>', lambda e: action.invoke())\n",
    "\n",
    "frame = ttk.Frame(root)\n",
    "frame.grid()\n",
    "\n",
    "\n",
    "root.mainloop()"
   ]
  },
  {
   "cell_type": "markdown",
   "metadata": {},
   "source": [
    "<h5>Button State</h5>"
   ]
  },
  {
   "cell_type": "markdown",
   "metadata": {},
   "source": [
    "full list of state flasgs to themed widgets is:<br>\n",
    "`active`<br>\n",
    "`disabled`<br>\n",
    "`focus`<br>\n",
    "`pressed`<br>\n",
    "`selected`<br>\n",
    "`background`<br>\n",
    "`readonly`<br>\n",
    "`alternate`<br>\n",
    "`invalid`<br>\n",
    "[themed widget reference](https://tcl.tk/man/tcl8.6/TkCmd/ttk_widget.htm)"
   ]
  },
  {
   "cell_type": "code",
   "execution_count": null,
   "metadata": {},
   "outputs": [
    {
     "name": "stdout",
     "output_type": "stream",
     "text": [
      "False\n",
      "True\n",
      "button pressed\n",
      "button pressed\n",
      "button pressed\n"
     ]
    },
    {
     "ename": "",
     "evalue": "",
     "output_type": "error",
     "traceback": [
      "\u001b[1;31mThe Kernel crashed while executing code in the current cell or a previous cell. \n",
      "\u001b[1;31mPlease review the code in the cell(s) to identify a possible cause of the failure. \n",
      "\u001b[1;31mClick <a href='https://aka.ms/vscodeJupyterKernelCrash'>here</a> for more info. \n",
      "\u001b[1;31mView Jupyter <a href='command:jupyter.viewOutput'>log</a> for further details."
     ]
    }
   ],
   "source": [
    "from tkinter import *\n",
    "from tkinter import ttk\n",
    "\n",
    "def myaction():\n",
    "    print('button pressed')\n",
    "\n",
    "root = Tk()\n",
    "frame = ttk.Frame(root)\n",
    "frame.grid()\n",
    "b = ttk.Button(frame, text=\"Action\", default=\"active\", command=myaction)\n",
    "b.grid()\n",
    "\n",
    "b.state(['disabled'])                 # set the disabled flag\n",
    "b.state(['!disabled'])                # clear the disabled flag\n",
    "print(b.instate(['disabled']))        # true if disabled, else false\n",
    "print(b.instate(['!disabled']))       # true if not disabled, else false\n",
    "b.instate(['!disabled'], myaction)    # execute 'cmd' if not disabled\n",
    "\n",
    "\n",
    "root.mainloop()"
   ]
  },
  {
   "cell_type": "markdown",
   "metadata": {},
   "source": [
    "<h2>Checkbutton</h2>"
   ]
  },
  {
   "cell_type": "markdown",
   "metadata": {},
   "source": [
    "<li> <a href=\"https://tkdocs.com/widgets/index.html\">Widget Roundup</li> \n",
    "<li> <a href=\"https://tcl.tk/man/tcl8.6/TkCmd/contents.html\">Tk reference manual page</li>"
   ]
  },
  {
   "cell_type": "markdown",
   "metadata": {},
   "source": [
    "Checkbutton is like a regular button that holds a binary value of some kind when pressed it flips the toggle and then invokes its callback. i.e. turn off or on.\n",
    "Created using `ttk.Checkbutton`<br>\n",
    "in example we have assigned onvalue as 'metric' and offvalue as 'imperial' default is 0 or 1\n"
   ]
  },
  {
   "cell_type": "code",
   "execution_count": null,
   "metadata": {},
   "outputs": [
    {
     "name": "stdout",
     "output_type": "stream",
     "text": [
      "metric\n",
      "imperial\n",
      "metric\n",
      "imperial\n"
     ]
    }
   ],
   "source": [
    "from tkinter import *\n",
    "from tkinter import ttk\n",
    "def metricChanged():\n",
    "    print(measureSystem.get())\n",
    "\n",
    "root = Tk()\n",
    "frame = ttk.Frame(root)\n",
    "frame.grid()\n",
    "\n",
    "measureSystem = StringVar()\n",
    "check = ttk.Checkbutton(frame, text='Use Metric',\n",
    "                        command=metricChanged, variable=measureSystem,\n",
    "                        onvalue='metric', offvalue='imperial')\n",
    "check.grid()\n",
    "\n",
    "\n",
    "root.mainloop()"
   ]
  },
  {
   "cell_type": "markdown",
   "metadata": {},
   "source": [
    "<h5>Widget Value</h5>"
   ]
  },
  {
   "cell_type": "markdown",
   "metadata": {},
   "source": [
    "a check button doesn't automatically set (or create) the linked variable.The program needs initialze it to the appropriate starting value.<br>\n",
    "the linked variable can contain neither the `onvalue` or the `offvalue`. when this happens the checkbutton is put intot a special \"tristate\" or indeterminate mode.\n",
    "Internally, the state flag `alternate` is set, which you can inspect via the `instate` method"
   ]
  },
  {
   "cell_type": "code",
   "execution_count": 5,
   "metadata": {},
   "outputs": [
    {
     "name": "stdout",
     "output_type": "stream",
     "text": [
      "metric\n",
      "imperial\n"
     ]
    }
   ],
   "source": [
    "from tkinter import *\n",
    "from tkinter import ttk\n",
    "def metricChanged():\n",
    "    print(measureSystem.get())\n",
    "\n",
    "root = Tk()\n",
    "frame = ttk.Frame(root)\n",
    "frame.grid()\n",
    "\n",
    "measureSystem = StringVar()\n",
    "check = ttk.Checkbutton(frame, text='Use Metric',\n",
    "                        command=metricChanged, variable=measureSystem,\n",
    "                        onvalue='metric', offvalue='imperial')\n",
    "check.instate(['alternate'])\n",
    "check.grid()\n",
    "\n",
    "\n",
    "root.mainloop()"
   ]
  },
  {
   "cell_type": "markdown",
   "metadata": {},
   "source": [
    "Tkinter provides other varible calsses that can hold bolleans, integers, or floating-point nubmers<br>\n",
    "all are subclasses of the base class `Variable`\n",
    "we can use the `get()` or `set()` to retrieve or provide a new value, you can also supply an initial value when instantiating it.<br>\n",
    "`s = StringVar(value=\"abc\")      # default value is ''`<br>\n",
    "`b = BooleanVar(value=True)      # default is False`<br>\n",
    "`i = IntVar(value=10)            # default is 0`<br>\n",
    "`d = DoubleVar(10.5)             # default is 0.0`<br>"
   ]
  },
  {
   "cell_type": "markdown",
   "metadata": {},
   "source": [
    "<h2>Radiobutton</h2>"
   ]
  },
  {
   "cell_type": "markdown",
   "metadata": {},
   "source": [
    "<li> <a href=\"https://tkdocs.com/widgets/index.html\">Widget Roundup</li> \n",
    "<li> <a href=\"https://tcl.tk/man/tcl8.6/TkCmd/contents.html\">Tk reference manual page</li>"
   ]
  },
  {
   "cell_type": "markdown",
   "metadata": {},
   "source": [
    "a radiobutton widgets lets you choose between several mutually exclusive choices, they are appropriate to use when the number of options is reletively small e.g. 3-5.<br>\n",
    "Radio buttons share same configureion with check boxese but they dont have a `onvalue` or `offvalue` instead they are repalced with a single `value`"
   ]
  },
  {
   "cell_type": "code",
   "execution_count": null,
   "metadata": {},
   "outputs": [],
   "source": [
    "from tkinter import *\n",
    "from tkinter import ttk\n",
    "\n",
    "root = Tk()\n",
    "frame = ttk.Frame(root)\n",
    "frame.grid()\n",
    "\n",
    "phone = StringVar()\n",
    "home = ttk.Radiobutton(frame, text='Home', variable=phone, value='home').grid()\n",
    "office = ttk.Radiobutton(frame, text='Office', variable=phone, value='office').grid()\n",
    "cell = ttk.Radiobutton(frame, text='Mobile', variable=phone, value='cell').grid()\n",
    "\n",
    "root.mainloop()"
   ]
  },
  {
   "cell_type": "markdown",
   "metadata": {},
   "source": [
    "<h2>Entry</h2>"
   ]
  },
  {
   "cell_type": "markdown",
   "metadata": {},
   "source": [
    "<li> <a href=\"https://tkdocs.com/widgets/index.html\">Widget Roundup</li> \n",
    "<li> <a href=\"https://tcl.tk/man/tcl8.6/TkCmd/contents.html\">Tk reference manual page</li>"
   ]
  },
  {
   "cell_type": "markdown",
   "metadata": {},
   "source": [
    "An entry widget presents users with a single-line text field where they can type in a string value.<br>\n",
    "A `width` configuration option bay be specified to provide how wide the entry should be"
   ]
  },
  {
   "cell_type": "code",
   "execution_count": null,
   "metadata": {},
   "outputs": [],
   "source": [
    "from tkinter import *\n",
    "from tkinter import ttk\n",
    "\n",
    "root = Tk()\n",
    "frame = ttk.Frame(root).grid()\n",
    "\n",
    "username = StringVar()\n",
    "name = ttk.Entry(frame, textvariable=username, width=20).grid()\n",
    "\n",
    "root.mainloop()"
   ]
  },
  {
   "cell_type": "markdown",
   "metadata": {},
   "source": [
    "<h5>Entry Contents</h5>"
   ]
  },
  {
   "cell_type": "markdown",
   "metadata": {},
   "source": [
    "the value is accdes through the linked variable specififed by the `textvariable` configuration option.<br>\n",
    "<i>Entrys dont have text or image beside them to identify them. Use a seperate label widget for that.</i><br>\n"
   ]
  },
  {
   "cell_type": "code",
   "execution_count": 2,
   "metadata": {},
   "outputs": [
    {
     "name": "stdout",
     "output_type": "stream",
     "text": [
      "current value is Devan Veach\n"
     ]
    }
   ],
   "source": [
    "from tkinter import *\n",
    "from tkinter import ttk\n",
    "\n",
    "root = Tk()\n",
    "frame = ttk.Frame(root).grid()\n",
    "\n",
    "username = StringVar()\n",
    "name = ttk.Entry(frame, textvariable=username, width=20)\n",
    "name.grid()\n",
    "name.insert(0, 'Devan Veach')\n",
    "print('current value is %s' % name.get())\n",
    "name.delete(0, 'end')\n",
    "\n",
    "\n",
    "\n",
    "root.mainloop()"
   ]
  },
  {
   "cell_type": "markdown",
   "metadata": {},
   "source": [
    "<h5>Watching for Changes</h5>"
   ]
  },
  {
   "cell_type": "markdown",
   "metadata": {},
   "source": [
    "To watch for changes, you should watch for changes to the linked variable.<br>\n",
    "Sticking with `trace_add` for simple uses;however, there are more complex. You can trigger multiple callbacks or callback when something is read, written, or deleted. You can add or detlet them (`trace_remove`) and instrospect them (`trace_info`)."
   ]
  },
  {
   "cell_type": "code",
   "execution_count": null,
   "metadata": {},
   "outputs": [
    {
     "name": "stdout",
     "output_type": "stream",
     "text": [
      "H\n",
      "He\n",
      "Hel\n",
      "Hell\n",
      "Hello\n",
      "Hellow\n",
      "Hello\n",
      "Hello \n",
      "Hello D\n",
      "Hello De\n",
      "Hello Dev\n",
      "Hello Deva\n",
      "Hello Devan\n"
     ]
    }
   ],
   "source": [
    "from tkinter import *\n",
    "from tkinter import ttk\n",
    "\n",
    "def it_has_been_written(*args):\n",
    "    print(name.get())\n",
    "\n",
    "root = Tk()\n",
    "frame = ttk.Frame(root).grid()\n",
    "\n",
    "username = StringVar()\n",
    "name = ttk.Entry(frame, textvariable=username, width=20)\n",
    "name.grid()\n",
    "\n",
    "username.trace_add(\"write\", it_has_been_written)\n",
    "\n",
    "root.mainloop()"
   ]
  },
  {
   "cell_type": "markdown",
   "metadata": {},
   "source": [
    "<h5>Passwords</h5>"
   ]
  },
  {
   "cell_type": "markdown",
   "metadata": {},
   "source": [
    "Entries can be used for passwords, where the actual contents are displayed as a bullet or other symbol. To do this, set the `show` configuration option to the character you'd like to display."
   ]
  },
  {
   "cell_type": "code",
   "execution_count": 6,
   "metadata": {},
   "outputs": [],
   "source": [
    "from tkinter import *\n",
    "from tkinter import ttk\n",
    "\n",
    "root = Tk()\n",
    "frame = ttk.Frame(root).grid()\n",
    "\n",
    "password = StringVar()\n",
    "passwd = ttk.Entry(frame, textvariable=password, width=10, show=\"*\")\n",
    "passwd.grid()\n",
    "\n",
    "root.mainloop()"
   ]
  },
  {
   "cell_type": "markdown",
   "metadata": {},
   "source": [
    "<h5>Widget States</h5>"
   ]
  },
  {
   "cell_type": "markdown",
   "metadata": {},
   "source": [
    "entries can also be put in a disabled state via `state` command (and queried with `instate`) Entries can also be set to `readonly`.<br>There is also an `invalid` state, set if the entry widget fails validation."
   ]
  },
  {
   "cell_type": "markdown",
   "metadata": {},
   "source": [
    "<h2>Validation</h2>"
   ]
  },
  {
   "cell_type": "markdown",
   "metadata": {},
   "source": [
    "validation is used to restrict what a user can type into the entry.<br>\n",
    "example: accept only an integer or a valid zip code.<br>\n",
    "The validation criteria are specified via an entry's `validatecommand` configuration option.We'll validate the entry on every keystroke; this is specified by providing a value of `key` to the `validate` configuration option."
   ]
  },
  {
   "cell_type": "code",
   "execution_count": 10,
   "metadata": {},
   "outputs": [],
   "source": [
    "import re\n",
    "from tkinter import *\n",
    "from tkinter import ttk\n",
    "\n",
    "root = Tk()\n",
    "frame = ttk.Frame(root).grid()\n",
    "\n",
    "def check_num(newval):\n",
    "    return re.match('^[0-9]*$', newval) is not None and len(newval) <=5\n",
    "check_num_wrapper = (root.register(check_num), '%P')\n",
    "\n",
    "num = StringVar()\n",
    "e = ttk.Entry(frame, textvariable=num, validate='key', validatecommand=check_num_wrapper)\n",
    "e.grid(column=0, row=0, sticky='we')\n",
    "\n",
    "root.mainloop()"
   ]
  },
  {
   "cell_type": "markdown",
   "metadata": {},
   "source": [
    "Here we will extend to accept ##### or #####-#### "
   ]
  },
  {
   "cell_type": "code",
   "execution_count": 12,
   "metadata": {},
   "outputs": [],
   "source": [
    "import re\n",
    "from tkinter import *\n",
    "from tkinter import ttk\n",
    "\n",
    "root = Tk()\n",
    "\n",
    "errmsg = StringVar()\n",
    "formatmsg = \"Zip should be ##### or #####-####\"\n",
    "\n",
    "def check_zip(newval, op):\n",
    "    errmsg.set('')\n",
    "    valid = re.match('^[0-9]{5}(\\-[0-9]{4})?$', newval) is not None\n",
    "    btn.state(['!disabled'] if valid else ['disabled'])\n",
    "    if op=='key':\n",
    "        ok_so_far = re.match('^[0-9\\-]*$', newval) is not None and len(newval) <= 10\n",
    "        if not ok_so_far:\n",
    "            errmsg.set(formatmsg)\n",
    "        return ok_so_far\n",
    "    elif op=='focusout':\n",
    "        if not valid:\n",
    "            errmsg.set(formatmsg)\n",
    "    return valid\n",
    "check_zip_wrapper = (root.register(check_zip), '%P', '%V')\n",
    "\n",
    "zip = StringVar()\n",
    "\n",
    "f = ttk.Frame(root)\n",
    "f.grid(column=0, row=0)\n",
    "ttk.Label(f, text='Name:').grid(column=0, row=0, padx=5, pady=5)\n",
    "ttk.Entry(f).grid(column=1, row=0, padx=5, pady=5)\n",
    "ttk.Label(f, text='Zip:').grid(column=0, row=1, padx=5, pady=5)\n",
    "e = ttk.Entry(f, textvariable=zip, validate='all', validatecommand=check_zip_wrapper)\n",
    "e.grid(column=1, row=1, padx=5, pady=5)\n",
    "btn = ttk.Button(f, text=\"Process\")\n",
    "btn.grid(column=2, row=1, padx=5, pady=5)\n",
    "btn.state(['disabled'])\n",
    "msg = ttk.Label(f, font='TkSmallCaptionFont', foreground='red', textvariable=errmsg)\n",
    "msg.grid(column=1, row=2, padx=5, pady=5, sticky='w')\n",
    "\n",
    "root.mainloop()"
   ]
  },
  {
   "cell_type": "markdown",
   "metadata": {},
   "source": [
    "<h2>Combobox</h2>"
   ]
  },
  {
   "cell_type": "markdown",
   "metadata": {},
   "source": [
    "a <b>combobox</b> widget combined an entry with a listy of choices. This lets users wither choose from a set of values you've provided, but also put in their own value.<br>\n",
    "Like entries the `textvarible` option links a variabl in your program to the current value of the combobox."
   ]
  },
  {
   "cell_type": "code",
   "execution_count": 14,
   "metadata": {},
   "outputs": [],
   "source": [
    "from tkinter import *\n",
    "from tkinter import ttk\n",
    "\n",
    "root = Tk()\n",
    "frame = ttk.Frame(root).grid()\n",
    "\n",
    "countryvar = StringVar()\n",
    "country = ttk.Combobox(frame, textvariable=countryvar)\n",
    "country.grid()\n",
    "\n",
    "root.mainloop()"
   ]
  },
  {
   "cell_type": "markdown",
   "metadata": {},
   "source": [
    "a Comob box will generate a `<<ComboboxSelected>>` virtual event that you can bind to whenever its value changes. Binding is more straightforward but you can also use trace.<br><br>\n",
    "You can provide a list of values that users can choose from using the `values` configuration option"
   ]
  },
  {
   "cell_type": "code",
   "execution_count": 20,
   "metadata": {},
   "outputs": [
    {
     "name": "stdout",
     "output_type": "stream",
     "text": [
      "0\n",
      "USA\n",
      "1\n",
      "Canada\n",
      "2\n",
      "Australia\n"
     ]
    }
   ],
   "source": [
    "from tkinter import *\n",
    "from tkinter import ttk\n",
    "\n",
    "def bind_function(*args):\n",
    "    print(country.current()) # gets index \n",
    "    print(country.get()) # gets value\n",
    "\n",
    "root = Tk()\n",
    "frame = ttk.Frame(root).grid()\n",
    "\n",
    "countryvar = StringVar()\n",
    "country = ttk.Combobox(frame, textvariable=countryvar)\n",
    "country['values'] = ('USA', 'Canada', 'Australia')\n",
    "country.bind('<<ComboboxSelected>>', bind_function)\n",
    "country.grid()\n",
    "\n",
    "root.mainloop()"
   ]
  },
  {
   "cell_type": "markdown",
   "metadata": {},
   "source": [
    "We can also use `current()` to get the index of the selected value<br>\n",
    "We can also use `.get()` and `.set()` to get the value or set a new value"
   ]
  },
  {
   "cell_type": "markdown",
   "metadata": {},
   "source": []
  }
 ],
 "metadata": {
  "kernelspec": {
   "display_name": "venv",
   "language": "python",
   "name": "python3"
  },
  "language_info": {
   "codemirror_mode": {
    "name": "ipython",
    "version": 3
   },
   "file_extension": ".py",
   "mimetype": "text/x-python",
   "name": "python",
   "nbconvert_exporter": "python",
   "pygments_lexer": "ipython3",
   "version": "3.10.11"
  }
 },
 "nbformat": 4,
 "nbformat_minor": 2
}
