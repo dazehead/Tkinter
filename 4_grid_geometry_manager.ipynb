{
 "cells": [
  {
   "cell_type": "markdown",
   "metadata": {},
   "source": [
    "<h1>The Grid Geometry Manager</h1>"
   ]
  },
  {
   "cell_type": "markdown",
   "metadata": {},
   "source": [
    "This chapter illustrates the various ways you can tweak grid to give you all the control you need for your user interface.<br><br>\n",
    "`grid` is one of several geometry managers available in Tk. It is the best choice for its general use.\n",
    "others include `pack` it is powerful but harder to use and understand.\n",
    "`place` give you complete control of position each element we will explore later.<br><br>\n",
    "The [reference documentation for grid](https://tcl.tk/man/tcl8.6/TkCmd/grid.htm) provides an exhaustive description of grid, its behaviors, and all options."
   ]
  },
  {
   "cell_type": "markdown",
   "metadata": {},
   "source": [
    "<h3>Columns and Rows</h3>"
   ]
  },
  {
   "cell_type": "markdown",
   "metadata": {},
   "source": [
    "widgets are assign a `columnn` and a `row`. They must be positibe integers and they dont have to start at 0. You can leave gaps. The width of each column will vary depending on the width of the widgets contained within the column, same for the height."
   ]
  },
  {
   "cell_type": "markdown",
   "metadata": {},
   "source": [
    "<h3>Spanning Multiple Cells</h3>"
   ]
  },
  {
   "cell_type": "markdown",
   "metadata": {},
   "source": [
    "Widgets can take up more than a single cell in the grid; to do this, we'll use the `columnspan` and `rowspan` options when gridding the widget."
   ]
  },
  {
   "cell_type": "code",
   "execution_count": 3,
   "metadata": {},
   "outputs": [],
   "source": [
    "from tkinter import *\n",
    "from tkinter import ttk\n",
    "\n",
    "root = Tk()\n",
    "\n",
    "content = ttk.Frame(root)\n",
    "frame = ttk.Frame(content, borderwidth=5, relief=\"ridge\", width=200, height=100)\n",
    "namelbl = ttk.Label(content, text=\"Name\")\n",
    "name = ttk.Entry(content)\n",
    "\n",
    "onevar = BooleanVar(value=True)\n",
    "twovar = BooleanVar(value=False)\n",
    "threevar = BooleanVar(value=True)\n",
    "\n",
    "one = ttk.Checkbutton(content, text=\"One\", variable=onevar, onvalue=True)\n",
    "two = ttk.Checkbutton(content, text=\"Two\", variable=twovar, onvalue=True)\n",
    "three = ttk.Checkbutton(content, text=\"Three\", variable=threevar, onvalue=True)\n",
    "ok = ttk.Button(content, text=\"Okay\")\n",
    "cancel = ttk.Button(content, text=\"Cancel\")\n",
    "\n",
    "content.grid(column=0, row=0)\n",
    "frame.grid(column=0, row=0, columnspan=3, rowspan=2)\n",
    "namelbl.grid(column=3, row=0, columnspan=2)\n",
    "name.grid(column=3, row=1, columnspan=2)\n",
    "one.grid(column=0, row=3)\n",
    "two.grid(column=1, row=3)\n",
    "three.grid(column=2, row=3)\n",
    "ok.grid(column=3, row=3)\n",
    "cancel.grid(column=4, row=3)\n",
    "\n",
    "root.mainloop()"
   ]
  },
  {
   "cell_type": "markdown",
   "metadata": {},
   "source": [
    "<h3>Layout within the Cell</h3>"
   ]
  },
  {
   "cell_type": "markdown",
   "metadata": {},
   "source": [
    "By defualt, if a cell is larger than the widget contained in it, the widget will be centered within it, and the master's background color will display around the empty space.<br>\n",
    "The `sticky` option can change default behavior. It takes a string of 0 or more compas directions NSEW, specifying the edges the cell should stick to.<br><br>\n",
    "If you specify two opposite edges such as WEST, EAST then it will stretch.<br>\n",
    "If you specify NSEW it will fill the expand and fill up the entire cell."
   ]
  },
  {
   "cell_type": "markdown",
   "metadata": {},
   "source": [
    "<h3>Handling Resize</h3>"
   ]
  },
  {
   "cell_type": "markdown",
   "metadata": {},
   "source": [
    "In the previous example if you try to resize nothing moves at all.<br>\n",
    "If we added Sticky to the grid it will still not react when extra room becomes available.<br>\n",
    "`weight` is the option associated with it. by default weight of each column and row is 0. `weight` tells grid how much the column or row should grow if theres extra room.<br>\n",
    "You will need to specify positive weight to the columns and rows that we want to expand.This is done by using the `columnconfigure` and `rowconfigure` methods of `grid`.<br><br>\n",
    "Both `columnconfigure` and `rowconfigure` also take a `minsize` grid option which specifies a minimum size you really don't want the column or row to shrink beyond."
   ]
  },
  {
   "cell_type": "markdown",
   "metadata": {},
   "source": [
    "<h3>Padding</h3>"
   ]
  },
  {
   "cell_type": "markdown",
   "metadata": {},
   "source": [
    "Padding creates space between widgets.<br>\n",
    "`frame` has `padding` option wether the same amount for each or different for each.<br>\n",
    "Another way is to use `padx` and `pady` grid options when adding the widget. This extra padding is within the grid cell containing the widget.<br>\n",
    "To add padding around an entire row or column , the `columnconfigure` and `rowconfigure` methods accept a `pad` option which will do this."
   ]
  },
  {
   "cell_type": "code",
   "execution_count": 13,
   "metadata": {},
   "outputs": [],
   "source": [
    "from tkinter import *\n",
    "from tkinter import ttk\n",
    "\n",
    "root = Tk()\n",
    "\n",
    "content = ttk.Frame(root, padding=(3,3,12,12))\n",
    "frame = ttk.Frame(content, borderwidth=5, relief=\"ridge\", width=200, height=100)\n",
    "namelbl = ttk.Label(content, text=\"Name\")\n",
    "name = ttk.Entry(content)\n",
    "\n",
    "onevar = BooleanVar()\n",
    "twovar = BooleanVar()\n",
    "threevar = BooleanVar()\n",
    "\n",
    "onevar.set(True)\n",
    "twovar.set(False)\n",
    "threevar.set(True)\n",
    "\n",
    "one = ttk.Checkbutton(content, text=\"One\", variable=onevar, onvalue=True)\n",
    "two = ttk.Checkbutton(content, text=\"Two\", variable=twovar, onvalue=True)\n",
    "three = ttk.Checkbutton(content, text=\"Three\", variable=threevar, onvalue=True)\n",
    "ok = ttk.Button(content, text=\"Okay\")\n",
    "cancel = ttk.Button(content, text=\"Cancel\")\n",
    "\n",
    "content.grid(column=0, row=0, sticky=(N, S, E, W))\n",
    "frame.grid(column=0, row=0, columnspan=3, rowspan=2, sticky=(N, S, E, W))\n",
    "namelbl.grid(column=3, row=0, columnspan=2, sticky=(N, W), padx=5)\n",
    "name.grid(column=3, row=1, columnspan=2, sticky=(N,E,W), pady=5, padx=5)\n",
    "one.grid(column=0, row=3)\n",
    "two.grid(column=1, row=3)\n",
    "three.grid(column=2, row=3)\n",
    "ok.grid(column=3, row=3)\n",
    "cancel.grid(column=4, row=3)\n",
    "\n",
    "root.columnconfigure(0, weight=1)\n",
    "root.rowconfigure(0, weight=1)\n",
    "content.columnconfigure(0, weight=3)\n",
    "content.columnconfigure(1, weight=3)\n",
    "content.columnconfigure(2, weight=3)\n",
    "content.columnconfigure(3, weight=1)\n",
    "content.columnconfigure(4, weight=1)\n",
    "content.rowconfigure(1, weight=1)\n",
    "\n",
    "root.mainloop()"
   ]
  },
  {
   "cell_type": "markdown",
   "metadata": {},
   "source": [
    "<h2>Additional Grid Features</h2>"
   ]
  },
  {
   "cell_type": "markdown",
   "metadata": {},
   "source": [
    "If you look at the [reference documentation](https://tcl.tk/man/tcl8.6/TkCmd/grid.htm) for grid, you'll see many other things you can do with grid. Here are a few of the more useful ones."
   ]
  },
  {
   "cell_type": "markdown",
   "metadata": {},
   "source": [
    "its easy to introspect various grid options or change them, you can change them anytime you'd like.<br><br>\n",
    "`grid_slaves()` Returns a list of widgets managed by the grid.<br>\n",
    "`grid_configure` Used to update the grid options of a widget.<br>\n",
    "`grid_info` Returns the grid-related details of a widget."
   ]
  },
  {
   "cell_type": "code",
   "execution_count": 12,
   "metadata": {},
   "outputs": [
    {
     "name": "stdout",
     "output_type": "stream",
     "text": [
      "[<tkinter.ttk.Frame object .!frame.!frame>, <tkinter.ttk.Checkbutton object .!frame.!checkbutton3>, <tkinter.ttk.Checkbutton object .!frame.!checkbutton2>, <tkinter.ttk.Checkbutton object .!frame.!checkbutton>, <tkinter.ttk.Button object .!frame.!button2>, <tkinter.ttk.Button object .!frame.!button>, <tkinter.ttk.Entry object .!frame.!entry>, <tkinter.ttk.Label object .!frame.!label>]\n",
      ".!frame.!frame\n",
      ".!frame.!checkbutton3\n",
      ".!frame.!checkbutton2\n",
      ".!frame.!checkbutton\n",
      ".!frame.!button2\n",
      ".!frame.!button\n",
      ".!frame.!entry\n",
      ".!frame.!label\n",
      "\n",
      "Widgets in row 3:\n",
      ".!frame.!checkbutton3\n",
      ".!frame.!checkbutton2\n",
      ".!frame.!checkbutton\n",
      ".!frame.!button2\n",
      ".!frame.!button\n",
      "\n",
      "Widgets in column 0:\n",
      ".!frame.!frame\n",
      ".!frame.!checkbutton\n",
      ".!frame.!entry\n",
      "\n",
      "name1b1 grid_info:\n",
      "{'in': <tkinter.ttk.Frame object .!frame>, 'column': 3, 'row': 0, 'columnspan': 2, 'rowspan': 1, 'ipadx': 0, 'ipady': 0, 'padx': 5, 'pady': 0, 'sticky': 'nw'}\n",
      "\n",
      "Updated name1b1 grid_info:\n",
      "{'in': <tkinter.ttk.Frame object .!frame>, 'column': 3, 'row': 0, 'columnspan': 2, 'rowspan': 1, 'ipadx': 0, 'ipady': 0, 'padx': 5, 'pady': 0, 'sticky': 'ew'}\n"
     ]
    }
   ],
   "source": [
    "from tkinter import *\n",
    "from tkinter import ttk\n",
    "\n",
    "root = Tk()\n",
    "content = ttk.Frame(root)\n",
    "content.grid()\n",
    "\n",
    "name1b1 = ttk.Label(content, text=\"Name\")\n",
    "name1b1.grid(row=0, column=3, columnspan=2, padx=5, sticky='nw')\n",
    "\n",
    "entry = ttk.Entry(content)\n",
    "entry.grid(row=1, column=0)\n",
    "\n",
    "button1 = ttk.Button(content, text='Button 1')\n",
    "button1.grid(row=3, column=1)\n",
    "\n",
    "button2 = ttk.Button(content, text='Button 2')\n",
    "button2.grid(row=3, column=2)\n",
    "\n",
    "check1 = ttk.Checkbutton(content, text=\"Check 1\")\n",
    "check1.grid(row=3, column=0)\n",
    "\n",
    "check2 = ttk.Checkbutton(content, text=\"Check 2\")\n",
    "check2.grid(row=3, column=1)\n",
    "\n",
    "check3 = ttk.Checkbutton(content, text=\"Check 3\")\n",
    "check3.grid(row=3, column=2)\n",
    "\n",
    "frame = ttk.Frame(content)\n",
    "frame.grid(row=4, column=0)\n",
    "\n",
    "# Display grid_slaves and grid_info\n",
    "print(content.grid_slaves())\n",
    "for w in content.grid_slaves():\n",
    "    print(w)\n",
    "\n",
    "# Grid slaves filtering by row and column\n",
    "print(\"\\nWidgets in row 3:\")\n",
    "for w in content.grid_slaves(row=3):\n",
    "    print(w)\n",
    "\n",
    "print(\"\\nWidgets in column 0:\")\n",
    "for w in content.grid_slaves(column=0):\n",
    "    print(w)\n",
    "\n",
    "# Access grid_info and configure grid options\n",
    "print(\"\\nname1b1 grid_info:\")\n",
    "print(name1b1.grid_info())\n",
    "\n",
    "name1b1.grid_configure(sticky=(E,W))\n",
    "print(\"\\nUpdated name1b1 grid_info:\")\n",
    "print(name1b1.grid_info())\n",
    "\n",
    "root.mainloop()\n"
   ]
  },
  {
   "cell_type": "markdown",
   "metadata": {},
   "source": [
    "<h3> Internal Padding</h3>"
   ]
  },
  {
   "cell_type": "markdown",
   "metadata": {},
   "source": [
    "you sw how `padx` and `pady` add extra space around. There also a less used type that adds internal padding `ipadx` and `ipady`."
   ]
  },
  {
   "cell_type": "markdown",
   "metadata": {},
   "source": [
    "<h3>Forget and Remove</h3>"
   ]
  },
  {
   "cell_type": "markdown",
   "metadata": {},
   "source": [
    "The `forget` method takes a list of one or more slave widgets and removed the slaves from the grid. This does not destroy it but just removed it from the screen as if `grid()` was never called on it, and all grid option you'd assigned will be lost<br><br>\n",
    "The `remove` method work the same; however, the grid options will be rembered if you `grid` it again later."
   ]
  },
  {
   "cell_type": "markdown",
   "metadata": {},
   "source": [
    "<h2>Nested Layouts</h2>"
   ]
  },
  {
   "cell_type": "markdown",
   "metadata": {},
   "source": [
    "The bigger the GUI grows the more complicated it will get, it is best practice to create a Frame of related content and then nest it into an existing frame this keeps the program modular where a class can manage 1 Frame and it will just be inserted into another Frame. In our example there is just a hint of this.<br><br>\n",
    "\n",
    "If you find yourself changing the layout of one part of the interface and it requires code changes the the layout of another part that may be a clue to reconsider how you're using `grid` and if splitting out componenets into seperate frames would help."
   ]
  },
  {
   "cell_type": "markdown",
   "metadata": {},
   "source": []
  }
 ],
 "metadata": {
  "kernelspec": {
   "display_name": "venv",
   "language": "python",
   "name": "python3"
  },
  "language_info": {
   "codemirror_mode": {
    "name": "ipython",
    "version": 3
   },
   "file_extension": ".py",
   "mimetype": "text/x-python",
   "name": "python",
   "nbconvert_exporter": "python",
   "pygments_lexer": "ipython3",
   "version": "3.10.11"
  }
 },
 "nbformat": 4,
 "nbformat_minor": 2
}
