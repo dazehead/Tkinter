{
 "cells": [
  {
   "cell_type": "markdown",
   "metadata": {},
   "source": [
    "<h1>Styles and Themes</h1>"
   ]
  },
  {
   "cell_type": "markdown",
   "metadata": {},
   "source": [
    "styles (control how widgets like buttons look)<br>\n",
    "themes (a collection of styles that define how all the widgets in our application look)"
   ]
  },
  {
   "cell_type": "markdown",
   "metadata": {},
   "source": [
    "<h2>Using Existing Themes</h2>"
   ]
  },
  {
   "cell_type": "markdown",
   "metadata": {},
   "source": [
    "Themes are identified by a name, and can be switched using the `theme_use()`"
   ]
  },
  {
   "cell_type": "code",
   "execution_count": 10,
   "metadata": {},
   "outputs": [
    {
     "name": "stdout",
     "output_type": "stream",
     "text": [
      "('winnative', 'clam', 'alt', 'default', 'classic', 'vista', 'xpnative')\n"
     ]
    }
   ],
   "source": [
    "from tkinter import *\n",
    "from tkinter import ttk\n",
    "root = Tk()\n",
    "\n",
    "s = ttk.Style(root)\n",
    "print(s.theme_names())\n",
    "s.theme_use('alt')\n",
    "\n",
    "button = ttk.Button(root, text='THEME')\n",
    "button.grid()\n",
    "\n",
    "root.mainloop()"
   ]
  },
  {
   "cell_type": "markdown",
   "metadata": {},
   "source": [
    "<h3>Third-Party Themes</h3>"
   ]
  },
  {
   "cell_type": "markdown",
   "metadata": {},
   "source": [
    "These themes are available to download \n",
    "- [third-party themes](https://wiki.tcl-lang.org/page/List+of+ttk+Themes)"
   ]
  },
  {
   "cell_type": "markdown",
   "metadata": {},
   "source": [
    "Here we will download a theme called \"awdark\" we will download to our themes folder and then call it [link to theme](https://sourceforge.net/projects/tcl-awthemes/)"
   ]
  },
  {
   "cell_type": "code",
   "execution_count": 23,
   "metadata": {},
   "outputs": [
    {
     "name": "stdout",
     "output_type": "stream",
     "text": [
      "('winnative', 'clam', 'alt', 'default', 'awdark', 'classic', 'vista', 'xpnative')\n"
     ]
    }
   ],
   "source": [
    "from tkinter import *\n",
    "from tkinter import ttk\n",
    "\n",
    "root = Tk()\n",
    "root.tk.call('lappend', 'auto_path', 'themes/awthemes-10.4.0')\n",
    "root.tk.call('package', 'require', 'awdark')\n",
    "#note if theme does not include a pkgIndex.tcl file then you do this\n",
    "#root.tk.call('source', 'themes/awthemes-10.4.0)\n",
    "\n",
    "s = ttk.Style(root)\n",
    "print(s.theme_names())\n",
    "s.theme_use('awdark')\n",
    "\n",
    "button = ttk.Button(text='hellooo')\n",
    "button.grid()\n",
    "\n",
    "root.mainloop()"
   ]
  },
  {
   "cell_type": "markdown",
   "metadata": {},
   "source": []
  }
 ],
 "metadata": {
  "kernelspec": {
   "display_name": "venv",
   "language": "python",
   "name": "python3"
  },
  "language_info": {
   "codemirror_mode": {
    "name": "ipython",
    "version": 3
   },
   "file_extension": ".py",
   "mimetype": "text/x-python",
   "name": "python",
   "nbconvert_exporter": "python",
   "pygments_lexer": "ipython3",
   "version": "3.10.11"
  }
 },
 "nbformat": 4,
 "nbformat_minor": 2
}
