{
 "cells": [
  {
   "cell_type": "markdown",
   "metadata": {},
   "source": [
    "<h1>Event Loop</h1>"
   ]
  },
  {
   "cell_type": "markdown",
   "metadata": {},
   "source": [
    "using `root.after`- [documentation](https://tcl.tk/man/tcl8.6/TclCmd/after.htm) Here we show how we can inturrupt, but the more important is how we are looping instead of a for loopo we are calling `root.after()` and implicitly uping the count and giving it some time during this loop to simulate work being done. using `after()` is what is called an <b>Event Timer</b>"
   ]
  },
  {
   "cell_type": "code",
   "execution_count": null,
   "metadata": {},
   "outputs": [],
   "source": [
    "from tkinter import *\n",
    "from tkinter import ttk\n",
    "\n",
    "def start():\n",
    "    button.configure(text='Stop', command=stop)\n",
    "    label['text'] = 'Working...'\n",
    "    global interrupt; interrupt = False\n",
    "    root.after(1, step)\n",
    "\n",
    "def stop():\n",
    "    global interrupt; interrupt = True\n",
    "\n",
    "def step(count=0):\n",
    "    progress['value'] = count\n",
    "    if interrupt:\n",
    "        result(None)\n",
    "        return\n",
    "    root.after(100)\n",
    "    if count==20:\n",
    "        result(42)\n",
    "        return\n",
    "    root.after(1, lambda: step(count+1))\n",
    "    \n",
    "def result(answer):\n",
    "    progress['value'] = 0\n",
    "    button.configure(text='Start!', command=start)\n",
    "    label['text'] = 'Answer: ' + str(answer) if answer else \"No Answer\"\n",
    "\n",
    "root = Tk()\n",
    "\n",
    "frame = ttk.Frame(root); frame.grid()\n",
    "button = ttk.Button(frame, text=\"Start!\", command=start); button.grid(column=1, row=0, padx=5, pady=5)\n",
    "label = ttk.Label(frame, text='No Answer'); label.grid(column=0, row=0, padx=5, pady=5)\n",
    "progress = ttk.Progressbar(frame, orient='horizontal', mode=\"determinate\", maximum=20)\n",
    "progress.grid(column=0, row=1, padx=5, pady=5)\n",
    "\n",
    "root.mainloop()"
   ]
  },
  {
   "cell_type": "markdown",
   "metadata": {},
   "source": [
    "<h2>Asynchronous I/O<h2>"
   ]
  },
  {
   "cell_type": "markdown",
   "metadata": {},
   "source": [
    "Timer events take care of braking upa  long-running computation, where you know that each step can be guaranteed to complete quickly so that your handler will return to the event loop.<br>\n",
    "Some operations dont finish quickly such as communicating witha  databse or retrieving data from a remote web server.<br>\n",
    "Most I/O calls are <i>blocking</i> what we want to do is use a <i>non-blocking</i> or <i>asynchronous I/O</i> call, that way it returns to the to the event loop immediately and the when the I/O operation completes, your program is notified and can process the result of the I/O operation.<br>\n",
    "This is called a <i>event-drive I/O</i>."
   ]
  },
  {
   "cell_type": "markdown",
   "metadata": {},
   "source": [
    "asynchronous I/O is provided by the `asyncio` module.<br>\n",
    "Best practice is to keep Tkinter event loop running in the main thread and spin-off your asyncio event loops in another thread.<br>\n",
    "The applicaion code, running in the main thread, may need to coordinate with asyncio event loop running in the other thread. You can call a function runnin in the asyncio event loop thread(even from the Tkinter event loop in a widget callback) using the asyncio `call_soon_threadsafe` method."
   ]
  },
  {
   "cell_type": "markdown",
   "metadata": {},
   "source": [
    "<h3>Threads or Processes</h3>"
   ]
  },
  {
   "cell_type": "markdown",
   "metadata": {},
   "source": [
    "main rule is that you must only make Tk calls from the thread where you loaded Tk.<br>\n",
    "if you need to communicate from another thread to the thread running Tkinter, keep it as simple as possible. Use `event_generate` to post a virtual event to the Tkinter event queue, and then `bind` to that event in your code.<br><br>\n",
    "`root.event_generate(\"<<MyOwnEvent>>\")`<br><br>\n",
    "If you have more than one thread in your application, make sure you're running in a threaded build. If you're unsure, check the Tcl variable `tcl_platform(threaded)`; it should be 1, not 0.\n",
    "\n",
    "`tkinter.Tcl().eval('set tcl_platform(threaded)')`\n"
   ]
  },
  {
   "cell_type": "markdown",
   "metadata": {},
   "source": [
    "<h1>Example of Threading in Practice</h1>"
   ]
  },
  {
   "cell_type": "code",
   "execution_count": 6,
   "metadata": {},
   "outputs": [],
   "source": [
    "from tkinter import *\n",
    "from tkinter import ttk\n",
    "import time\n",
    "from random import randint\n",
    "import threading\n",
    "\n",
    "root = Tk()\n",
    "\n",
    "root.title(\"Threading example\")\n",
    "root.geometry(\"500x400\")\n",
    "\n",
    "def five_seconds():\n",
    "    time.sleep(5)\n",
    "    my_label['text'] = \"5 seconds is Up!\"\n",
    "\n",
    "def rando():\n",
    "    random_label['text'] = f\"Random Number = {randint(1,100)}\"\n",
    "\n",
    "my_label = ttk.Label(root, text=\"Hello There!\")\n",
    "my_label.grid(pady=20, padx=200, sticky=(W,E))\n",
    "\n",
    "my_button = ttk.Button(root, text='5 Seconds', \n",
    "                       command=threading.Thread(target=five_seconds).start())\n",
    "my_button.grid(pady=20, padx=200, sticky=(W,E))\n",
    "\n",
    "my_button2 = ttk.Button(root, text=\"Pick Random Number\", command=rando)\n",
    "my_button2.grid(pady=20, padx=200, sticky=(W,E))\n",
    "\n",
    "random_label = ttk.Label(root, text='')\n",
    "random_label.grid(pady=20, padx=200, sticky=(W,E))\n",
    "\n",
    "\n",
    "root.mainloop()"
   ]
  },
  {
   "cell_type": "markdown",
   "metadata": {},
   "source": [
    "<h2>Nested Event Processing</h2>"
   ]
  },
  {
   "cell_type": "markdown",
   "metadata": {},
   "source": [
    "Within your long-running operation, you can invoke the event loop to process a bunch of events. You can do this with a single command, `update`. There's no messing around with timer evens or asynchronou I/O. Just sprinkle some `update` calls throught your operation. If you want to only keep the screen redrawing but not process other events, there's even a option for that(`update_idletasks`)<br><br>\n",
    "This approach is seductively easy. And if you're lucky, it might work. At least for a little while. But sooner or later, you're going to run into serious difficulties trying to do things that way. Something won't be updating, event handlers aren't getting called that should be, events are going missing or being fired out of order, or worse. You'll turn your program's logic inside out and tear your hair out trying to make it work again.<br><br>\n",
    "In practice your askign for trouble if you use `udpate` as it is not giving control to the eventloop is is essentually making a new event loop inside of the existing one and this can get messy really quick"
   ]
  }
 ],
 "metadata": {
  "kernelspec": {
   "display_name": "venv",
   "language": "python",
   "name": "python3"
  },
  "language_info": {
   "codemirror_mode": {
    "name": "ipython",
    "version": 3
   },
   "file_extension": ".py",
   "mimetype": "text/x-python",
   "name": "python",
   "nbconvert_exporter": "python",
   "pygments_lexer": "ipython3",
   "version": "3.10.11"
  }
 },
 "nbformat": 4,
 "nbformat_minor": 2
}
