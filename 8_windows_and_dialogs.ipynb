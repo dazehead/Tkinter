{
 "cells": [
  {
   "cell_type": "markdown",
   "metadata": {},
   "source": [
    "<h1>Windows and Dialogs</h1>"
   ]
  },
  {
   "cell_type": "markdown",
   "metadata": {},
   "source": [
    "In this chapter, we'll cover how touse multiple windows, change various attributes of windows, and use some of the standard dialog boxes available in Tk."
   ]
  },
  {
   "cell_type": "markdown",
   "metadata": {},
   "source": [
    "<h3>Creating and Destorying Windows<h3>"
   ]
  },
  {
   "cell_type": "markdown",
   "metadata": {},
   "source": [
    "Toplevel windows are created using the `Toplevel` class.<br>\n",
    "`t = Toplevel(parent)`"
   ]
  },
  {
   "cell_type": "markdown",
   "metadata": {},
   "source": [
    "unlike regular widgets, we dont' have to `grid` a toplevel for it to appear onscreen. The new toplevel behaves exactly like the automatically created root window.<br>\n",
    "to destroy a window, use its `destroy` method.<br>\n",
    "`window.destroy()`"
   ]
  },
  {
   "cell_type": "markdown",
   "metadata": {},
   "source": [
    "you can `destroy` any widget, not just a toplevel window, when you destory a window all widgets that are children of that window are also destroyed. If you destory the root window from which all widgets are descended from, that will terminate your application."
   ]
  },
  {
   "cell_type": "markdown",
   "metadata": {},
   "source": [
    "<i>to remove a window without destroying it we can use the windows </i>`withdraw`<i> method</i>"
   ]
  },
  {
   "cell_type": "markdown",
   "metadata": {},
   "source": [
    "<h3>Window Behavior and Styles</h3>"
   ]
  },
  {
   "cell_type": "markdown",
   "metadata": {},
   "source": [
    "we can also change the titles:<br>\n",
    "`oldtitle = window.title()`<br>\n",
    "`window.title(\"New title\")`"
   ]
  },
  {
   "cell_type": "markdown",
   "metadata": {},
   "source": [
    "<h4>Size and Location</h4>"
   ]
  },
  {
   "cell_type": "markdown",
   "metadata": {},
   "source": [
    "changing size and location are known as its <i>geometry</i>. full geometry specification looks like: `width x height +x +y`\n",
    "\n",
    "The `x` horizontal position is specified with a leading plug or minus so `+25` means the left edge of the window should be 25 pixels from the left edge of the screen, while `-50` means the right edge of the window should be 50 pixels from the right edge of the screen.<br><br>\n",
    "Similarly a `y` vertical position of `+10` means the top edge of the window should be 10 pixels below the top of the screen. while `-100` means the bottom edge of the window should be 100 pixels above the bottom of the screen."
   ]
  },
  {
   "cell_type": "code",
   "execution_count": 9,
   "metadata": {},
   "outputs": [],
   "source": [
    "from tkinter import *\n",
    "from tkinter import ttk\n",
    "\n",
    "root = Tk()\n",
    "root.title('Root Title')\n",
    "\n",
    "t = Toplevel(root)\n",
    "t.title('T Title')\n",
    "t.geometry('300x200-5+40')\n",
    "\n",
    "root.mainloop()"
   ]
  },
  {
   "cell_type": "markdown",
   "metadata": {},
   "source": [
    "<h4>Resizing Behavior</h4>"
   ]
  },
  {
   "cell_type": "markdown",
   "metadata": {},
   "source": [
    "by default all windows can be resized by users. to prevent users from resizing the window. you can do this via the `resizable` method. The first parameter controls whether user can change the width, and second if they can change the height<br><br>\n",
    "\n",
    "`window.resizable(False, False)`<br><br>\n",
    "you can specify a minimum and a maximum size<br><br>\n",
    "`window.minsize(200,100)`<br>\n",
    "`window.maxsize(500,500)`"
   ]
  },
  {
   "cell_type": "markdown",
   "metadata": {},
   "source": [
    "You can retrieve  the current geometry<br>\n",
    "`window.update_idletasks()`<br>\n",
    "`print(window.geometry())`"
   ]
  },
  {
   "cell_type": "markdown",
   "metadata": {},
   "source": [
    "you get just a size"
   ]
  },
  {
   "cell_type": "markdown",
   "metadata": {},
   "source": [
    "`window.winfo_reqwidth()`\n",
    "`window.winfo_reqheight()`"
   ]
  },
  {
   "cell_type": "markdown",
   "metadata": {},
   "source": [
    "<h4>Intercepting the Close Button</h4>"
   ]
  },
  {
   "cell_type": "markdown",
   "metadata": {},
   "source": [
    "Tk will destroy the window if users click on that button. You can, however, provide a callback that will be run isntead. A common use is to prompt the user to savea n open file if modifications have been made.<br>\n",
    "`window.protocol(\"WM_DELETE_WINDOW\", callback)`"
   ]
  },
  {
   "cell_type": "markdown",
   "metadata": {},
   "source": [
    "<h5>Transparency</h5>"
   ]
  },
  {
   "cell_type": "markdown",
   "metadata": {},
   "source": [
    "Windows can be made partially transparent by specifying an alpha channel, ranging from 0.0 to 1.0<br>\n",
    "`window.attributes(\"-alpha\", 0.5)`"
   ]
  },
  {
   "cell_type": "markdown",
   "metadata": {},
   "source": [
    "<h5>Full Screen</h5>"
   ]
  },
  {
   "cell_type": "markdown",
   "metadata": {},
   "source": [
    "You can make a window expand to take up the full screen<br>\n",
    "`window.attributes(\"-fullscreen\", 1)`"
   ]
  },
  {
   "cell_type": "code",
   "execution_count": null,
   "metadata": {},
   "outputs": [],
   "source": [
    "from tkinter import *\n",
    "from tkinter import ttk\n",
    "\n",
    "def callback():\n",
    "    print('You tried to exit, instead of destroy we are going to withdraw')\n",
    "    t.withdraw()\n",
    "\n",
    "root = Tk()\n",
    "root.title('Root Title')\n",
    "\n",
    "t = Toplevel(root)\n",
    "t.title('T Title')\n",
    "t.geometry('300x200-5+40')\n",
    "t.protocol(\"WM_DELETE_WINDOW\", callback)\n",
    "t.attributes(\"-alpha\", 0.5)\n",
    "#t.attributes(\"-fullscreen\", 1)\n",
    "\n",
    "root.mainloop()"
   ]
  },
  {
   "cell_type": "markdown",
   "metadata": {},
   "source": [
    "<h2>Iconifying and Withdrawing</h2>"
   ]
  },
  {
   "cell_type": "markdown",
   "metadata": {},
   "source": [
    "You can temporarily remove the window from the screen by iconifying it. This is done by changing the windows <i>state</i>. The possible states include `normal`, `iconic`(for an iconified window), `withdrawn`, `icon`, `zoomed`.<br><br>\n",
    "you can query or set the current window state directly, There are also method `iconify`, `deiconify`, and `withdraw`; these shortcuts for setting the `iconic`, `normal`, and `withdrawn` states, respectively."
   ]
  },
  {
   "cell_type": "code",
   "execution_count": 16,
   "metadata": {},
   "outputs": [
    {
     "name": "stdout",
     "output_type": "stream",
     "text": [
      "normal\n",
      "iconic\n",
      "normal\n",
      "withdrawn\n"
     ]
    }
   ],
   "source": [
    "from tkinter import *\n",
    "from tkinter import ttk\n",
    "\n",
    "def callback():\n",
    "    print('You tried to exit, instead of destroy we are going to withdraw')\n",
    "    t.withdraw()\n",
    "\n",
    "root = Tk()\n",
    "root.title('Root Title')\n",
    "\n",
    "t = Toplevel(root)\n",
    "t.title('T Title')\n",
    "print(t.state())\n",
    "\n",
    "t.iconify()\n",
    "print(t.state())\n",
    "\n",
    "t.deiconify()\n",
    "print(t.state())\n",
    "\n",
    "t.withdraw()\n",
    "print(t.state())\n",
    "\n",
    "root.mainloop()"
   ]
  },
  {
   "cell_type": "markdown",
   "metadata": {},
   "source": [
    "<h3>Stacking Order</h3>"
   ]
  },
  {
   "cell_type": "markdown",
   "metadata": {},
   "source": [
    "stacking reers to the order that windows are \"placed\" onthe screen.<br>\n",
    "You can ensure that a window is always on top of the stacking order<br>\n",
    "`window.attributes(\"-topmost\", 1)`<br><br>\n",
    "You can find the current stacking order, listed from lowest to highest<br>\n",
    "`root.tk.eval('wm stackorder '+ str(window))`<br><br>\n",
    "You can also just check if one window is abaove or below another<br>\n",
    "`if (root.tk.eval('wm stackorder ' +str(window)+' isabove '+str(otherwindow))=='1')`<br>\n",
    "`if (root.tk.eval('wm stackorder '+str(window)+' isbelow '+str(otherwindow))=='1')`<br><br>\n",
    "You can also raise or lower windows, either to the very top (bottom)of the stacking order, or just above (below) a designated window<br>\n",
    "`window.lift()`<br>\n",
    "`window.lift(otherwin)`<br>\n",
    "`window.lower()`<br>\n",
    "`window.lower(otherwin)`"
   ]
  },
  {
   "cell_type": "markdown",
   "metadata": {},
   "source": [
    "You can also do this with widgets"
   ]
  },
  {
   "cell_type": "code",
   "execution_count": 18,
   "metadata": {},
   "outputs": [],
   "source": [
    "from tkinter import *\n",
    "from tkinter import ttk\n",
    "\n",
    "root = Tk()\n",
    "little = ttk.Label(root, text=\"Little\")\n",
    "bigger = ttk.Label(root, text='Much bigger label')\n",
    "\n",
    "little.grid(column=0, row=0)\n",
    "bigger.grid(column=0, row=0)\n",
    "\n",
    "root.after(2000, lambda: little.lift())\n",
    "root.mainloop()"
   ]
  },
  {
   "cell_type": "markdown",
   "metadata": {},
   "source": [
    "<h3>Screen information</h3>"
   ]
  },
  {
   "cell_type": "markdown",
   "metadata": {},
   "source": [
    "[winfo documentation](https://tcl.tk/man/tcl8.6/TkCmd/winfo.htm)"
   ]
  },
  {
   "cell_type": "markdown",
   "metadata": {},
   "source": [
    "you can get information about the screen as well using winfo.<br>\n",
    "you can determine the screen's color depth(how many bits per pixel) and color model (usually `truecolor` on modern displays), its pixel density, and resolution.<br><br>\n",
    "`print(\"color depth=\" + str(root.winfo_screendepth())+ \" (\" + root.winfo_screenvisual() + \")\")`<br>\n",
    "`print(\"pixels per inch=\" + str(root.winfo_pixels('1i')))`<br>\n",
    "`print(\"width=\", str(root.winfo_screenwidth()) + \" height=\", str(root.winfo_screenheight()))`"
   ]
  },
  {
   "cell_type": "markdown",
   "metadata": {},
   "source": [
    "<h3>Multiple Monitors</h3>"
   ]
  },
  {
   "cell_type": "markdown",
   "metadata": {},
   "source": [
    "`root.winfo_screen()`<br>\n",
    "you can get information on the screen<br><br>\n",
    "You can get the size of the screen you are on by using<br>\n",
    "`root.wm_maxsize()`"
   ]
  },
  {
   "cell_type": "markdown",
   "metadata": {},
   "source": [
    "<h2>Dialog Windows</h2>"
   ]
  },
  {
   "cell_type": "markdown",
   "metadata": {},
   "source": [
    "dialog boxes are a type of window used in application to get information from users, inform them that some event has occured, confirm an action, and more."
   ]
  },
  {
   "cell_type": "markdown",
   "metadata": {},
   "source": [
    "<h3>Selecting Files and Directories</h3>"
   ]
  },
  {
   "cell_type": "markdown",
   "metadata": {},
   "source": [
    "Tk provides several dialogs for selecting files or directories. These are used in \"File | Open...\" menu command, or while the \"Save\" variane is ued to choose a file to save into usually \"File | Save As...\" menu command."
   ]
  },
  {
   "cell_type": "code",
   "execution_count": 19,
   "metadata": {},
   "outputs": [],
   "source": [
    "from tkinter import filedialog\n",
    "filename = filedialog.askopenfilename()\n",
    "filename = filedialog.asksaveasfilename()\n",
    "dirname = filedialog.askdirectory()"
   ]
  },
  {
   "cell_type": "markdown",
   "metadata": {},
   "source": [
    "These commands return the full pathname of the file or directory a user has chosen or an empty string if a user cancel out the dialog"
   ]
  },
  {
   "cell_type": "markdown",
   "metadata": {},
   "source": [
    "Various options can be passed to these dialogs allowing you to set the allowable file types, initial diredtory, default filename, and many more. These are detailed in the [getOpenFile](https://tcl.tk/man/tcl8.6/TkCmd/getOpenFile.htm) (includes  `getSaveFile`) and [choose directory](https://tcl.tk/man/tcl8.6/TkCmd/chooseDirectory.htm) reference manual pages."
   ]
  },
  {
   "cell_type": "markdown",
   "metadata": {},
   "source": [
    "<h3>Selecting Colors</h3>"
   ]
  },
  {
   "cell_type": "markdown",
   "metadata": {},
   "source": [
    "Another modal dialog lets users select a color. It will return a color value, e.g. `#ff62b8`. The dialog takes an optional `initialcolor` option to specify an existing color, i.e., that users might want to replace. More information is available in the [chooseColor](https://tcl.tk/man/tcl8.6/TkCmd/chooseDirectory.htm) reference manual pages."
   ]
  },
  {
   "cell_type": "code",
   "execution_count": 2,
   "metadata": {},
   "outputs": [],
   "source": [
    "from tkinter import *\n",
    "from tkinter import colorchooser\n",
    "\n",
    "root = Tk()\n",
    "colorchooser.askcolor(initialcolor='#ff0000')\n",
    "\n",
    "root.mainloop()"
   ]
  },
  {
   "cell_type": "markdown",
   "metadata": {},
   "source": [
    "<h3>Selecting Fonts</h3>"
   ]
  },
  {
   "cell_type": "markdown",
   "metadata": {},
   "source": [
    "The Font dialog works different than the color and file system this example code uses the Tcl API directly.The program will block at this point, until the dialog box is dismissed, there is a 'hide' ;however, why would we do that if its hidden then our entire application is blocked"
   ]
  },
  {
   "cell_type": "code",
   "execution_count": 3,
   "metadata": {},
   "outputs": [],
   "source": [
    "from tkinter import *\n",
    "from tkinter import ttk\n",
    "\n",
    "root = Tk()\n",
    "l = ttk.Label(root, text=\"Hello World\", font=\"helvetica 24\")\n",
    "l.grid(padx=10, pady=10)\n",
    "\n",
    "def font_changed(font):\n",
    "    l['font'] = font\n",
    "\n",
    "root.tk.call('tk', 'fontchooser', 'configure', '-font', 'helvetica 24', '-command', root.register(font_changed))\n",
    "root.tk.call('tk', 'fontchooser', 'show')\n",
    "\n",
    "root.mainloop()"
   ]
  },
  {
   "cell_type": "markdown",
   "metadata": {},
   "source": [
    "<h3>Alert and Confirmation Dialogs</h3>"
   ]
  },
  {
   "cell_type": "markdown",
   "metadata": {},
   "source": [
    "Tk provides a versatile \"mesasge box\", this is to notify uders of an event, or ask them to confirm an action, or make another similar choice via clicking on a button."
   ]
  },
  {
   "cell_type": "code",
   "execution_count": 5,
   "metadata": {},
   "outputs": [
    {
     "name": "stdout",
     "output_type": "stream",
     "text": [
      "ok\n"
     ]
    }
   ],
   "source": [
    "from tkinter import *\n",
    "from tkinter import messagebox\n",
    "\n",
    "root = Tk()\n",
    "result = messagebox.showinfo(message='Have a good day')\n",
    "print(result)\n",
    "\n",
    "root.mainloop()"
   ]
  },
  {
   "cell_type": "code",
   "execution_count": 6,
   "metadata": {},
   "outputs": [
    {
     "name": "stdout",
     "output_type": "stream",
     "text": [
      "True\n"
     ]
    }
   ],
   "source": [
    "from tkinter import messagebox\n",
    "from tkinter import *\n",
    "\n",
    "result = messagebox.askyesno(message=\"Are you sure you want to install SuperVirus?\",\n",
    "                    icon='question',title='Install')\n",
    "\n",
    "print(result)\n",
    "\n",
    "root.mainloop()"
   ]
  },
  {
   "cell_type": "markdown",
   "metadata": {},
   "source": [
    "Heres the method names and the return value for each method<br>\n",
    "`showinfo`<br>\n",
    "⇒ \"ok\"<br>\n",
    "`showwarning`<br>\n",
    "⇒ \"ok\"<br>\n",
    "`showerror`<br>\n",
    "⇒ \"ok\"<br>\n",
    "`askokcancel`<br>\n",
    "⇒ True (on ok) or False (on cancel)<br>\n",
    "`askyesno`<br>\n",
    "⇒ True (on yes) or False (on no)<br>\n",
    "`askretrycancel`<br>\n",
    "⇒ True (on retry) or False (on cancel)<br>\n",
    "`askquestion`<br>\n",
    "⇒ \"yes\" or \"no\"<br>\n",
    "`askyesnocancel`<br>\n",
    "⇒ True (on yes), False (on no), or None (on cancel)"
   ]
  },
  {
   "cell_type": "markdown",
   "metadata": {},
   "source": [
    "The full list of possible options is shown here:<br>\n",
    "`type`\n",
    "As described above.<br>\n",
    "`message`\n",
    "The main message displayed inside the alert.<br>\n",
    "`detail`\n",
    "A secondary message (if needed).<br>\n",
    "`title`\n",
    "Title for the dialog window. Not used on macOS.<br>\n",
    "`icon`\n",
    "Icon, one of info (default), error, question, or warning.<br>\n",
    "`default`\n",
    "Default button, e.g., ok or cancel for an okcancel dialog.<br>\n",
    "`parent`\n",
    "Window of your application this dialog is being posted for."
   ]
  },
  {
   "cell_type": "markdown",
   "metadata": {},
   "source": [
    "Additional details can be found in the `messagebox` [reference manual](https://tcl.tk/man/tcl8.6/TkCmd/messageBox.htm)"
   ]
  },
  {
   "cell_type": "markdown",
   "metadata": {},
   "source": [
    "<h2>Rolling Your Own</h2>"
   ]
  },
  {
   "cell_type": "markdown",
   "metadata": {},
   "source": [
    "This is a very basic example of creating your own dialog box"
   ]
  },
  {
   "cell_type": "code",
   "execution_count": 1,
   "metadata": {},
   "outputs": [],
   "source": [
    "from tkinter import *\n",
    "from tkinter import ttk\n",
    "\n",
    "root = Tk()\n",
    "\n",
    "def dismiss():\n",
    "    dlg.grab_release()\n",
    "    dlg.destroy()\n",
    "\n",
    "dlg = Toplevel(root)\n",
    "ttk.Button(dlg, text='Done', command=dismiss).grid()\n",
    "dlg.protocol(\"WM_DELETE_WINDOW\", dismiss) # intercept close button\n",
    "dlg.transient(root) # dialog window is related to main\n",
    "dlg.wait_visibility() # can't grab until window appears, so we wait\n",
    "dlg.grab_set() # ensure all inpout goes to our window\n",
    "dlg.wait_window() # block until window is destoryed\n",
    "\n",
    "root.mainloop()"
   ]
  },
  {
   "cell_type": "markdown",
   "metadata": {},
   "source": [
    "Application code blocking like this is an example of running a nested event loop that we generally recommend against, though it may be more convenient in certain circumstances."
   ]
  }
 ],
 "metadata": {
  "kernelspec": {
   "display_name": "venv",
   "language": "python",
   "name": "python3"
  },
  "language_info": {
   "codemirror_mode": {
    "name": "ipython",
    "version": 3
   },
   "file_extension": ".py",
   "mimetype": "text/x-python",
   "name": "python",
   "nbconvert_exporter": "python",
   "pygments_lexer": "ipython3",
   "version": "3.10.11"
  }
 },
 "nbformat": 4,
 "nbformat_minor": 2
}
