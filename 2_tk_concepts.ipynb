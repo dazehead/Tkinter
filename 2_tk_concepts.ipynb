{
 "cells": [
  {
   "cell_type": "markdown",
   "metadata": {},
   "source": [
    "<h1>Tk Concepts"
   ]
  },
  {
   "cell_type": "code",
   "execution_count": 3,
   "metadata": {},
   "outputs": [],
   "source": [
    "from tkinter import *\n",
    "from tkinter import ttk"
   ]
  },
  {
   "cell_type": "markdown",
   "metadata": {},
   "source": [
    "<h3>Creating Widgets</h3>"
   ]
  },
  {
   "cell_type": "markdown",
   "metadata": {},
   "source": [
    "every widget must have the parent widget sent to it, only exeption is root"
   ]
  },
  {
   "cell_type": "code",
   "execution_count": 4,
   "metadata": {},
   "outputs": [],
   "source": [
    "root = Tk()\n",
    "content = ttk.Frame(root)\n",
    "button = ttk.Button(content)"
   ]
  },
  {
   "cell_type": "markdown",
   "metadata": {},
   "source": [
    "<h3>Configuration Options</h3>"
   ]
  },
  {
   "cell_type": "markdown",
   "metadata": {},
   "source": [
    "you can set configurations when you create the objects or with the interpreter"
   ]
  },
  {
   "cell_type": "code",
   "execution_count": 2,
   "metadata": {},
   "outputs": [
    {
     "ename": "NameError",
     "evalue": "name 'root' is not defined",
     "output_type": "error",
     "traceback": [
      "\u001b[1;31m---------------------------------------------------------------------------\u001b[0m",
      "\u001b[1;31mNameError\u001b[0m                                 Traceback (most recent call last)",
      "Cell \u001b[1;32mIn[2], line 1\u001b[0m\n\u001b[1;32m----> 1\u001b[0m button \u001b[38;5;241m=\u001b[39m ttk\u001b[38;5;241m.\u001b[39mButton(\u001b[43mroot\u001b[49m, text\u001b[38;5;241m=\u001b[39m\u001b[38;5;124m\"\u001b[39m\u001b[38;5;124mhello\u001b[39m\u001b[38;5;124m\"\u001b[39m, command\u001b[38;5;241m=\u001b[39m\u001b[38;5;124m\"\u001b[39m\u001b[38;5;124mbuttonpressed\u001b[39m\u001b[38;5;124m\"\u001b[39m)\n\u001b[0;32m      2\u001b[0m button\u001b[38;5;241m.\u001b[39mgrid()\n\u001b[0;32m      4\u001b[0m \u001b[38;5;66;03m# both ways of changing the text in the button\u001b[39;00m\n",
      "\u001b[1;31mNameError\u001b[0m: name 'root' is not defined"
     ]
    }
   ],
   "source": [
    "button = ttk.Button(root, text=\"hello\", command=\"buttonpressed\")\n",
    "button.grid()\n",
    "\n",
    "# both ways of changing the text in the button\n",
    "button['text'] = 'goodbye'\n",
    "button.configure(text='goodbye')\n",
    "\n",
    "# You can get informaton on all option for a widget like this\n",
    "button.configure()"
   ]
  },
  {
   "cell_type": "markdown",
   "metadata": {},
   "source": [
    "<h3>Widget Introspection</h3>"
   ]
  },
  {
   "cell_type": "markdown",
   "metadata": {},
   "source": [
    "You can access information about all your widgets using `winfo`.\n",
    "Below examples goes through all the children using `winfo_children` and prints some information"
   ]
  },
  {
   "cell_type": "code",
   "execution_count": 5,
   "metadata": {},
   "outputs": [
    {
     "name": "stdout",
     "output_type": "stream",
     "text": [
      "Tk w=1 h=1 x=0 y=0\n",
      "  TFrame w=1 h=1 x=0 y=0\n",
      "    TButton w=1 h=1 x=0 y=0\n"
     ]
    }
   ],
   "source": [
    "def print_hierarchy(w, depth=0):\n",
    "    print('  '*depth + w.winfo_class() + ' w=' + str(w.winfo_width()) + ' h=' + str(w.winfo_height()) + ' x=' + str(w.winfo_x()) + ' y=' + str(w.winfo_y()))\n",
    "    for i in w.winfo_children():\n",
    "        print_hierarchy(i, depth+1)\n",
    "\n",
    "print_hierarchy(root)"
   ]
  },
  {
   "cell_type": "markdown",
   "metadata": {},
   "source": [
    "The following are some of the most useful methods:\n",
    "\n",
    "`winfo_class`\n",
    "a class identifying the type of widget, e.g., TButton for a themed button<br>\n",
    "`winfo_children`\n",
    "a list of widgets that are the direct children of a widget in the hierarchy<br>\n",
    "`winfo_parent`\n",
    "parent of the widget in the hierarchy<br>\n",
    "`winfo_toplevel`\n",
    "the toplevel window containing this widget<br>\n",
    "`winfo_width`, `winfo_height`\n",
    "current width and height of the widget; not accurate until it appears onscreen<br>\n",
    "`winfo_reqwidth`, `winfo_reqheight`\n",
    "the width and height that the widget requests of the geometry manager (more on this shortly)<br>\n",
    "`winfo_x`, `winfo_y`\n",
    "the position of the top-left corner of the widget relative to its parent<br>\n",
    "`winfo_rootx`, `winfo_rooty`\n",
    "the position of the top-left corner of the widget relative to the entire screen<br>\n",
    "`winfo_vieweable`\n",
    "whether the widget is displayed or hidden (all its ancestors in the hierarchy must be viewable for it to be viewable)"
   ]
  },
  {
   "cell_type": "markdown",
   "metadata": {},
   "source": [
    "<h3>Geometry Management</h3>"
   ]
  },
  {
   "cell_type": "markdown",
   "metadata": {},
   "source": [
    "placing widgets on the screen is called <i>geometry management</i>.<br>\n",
    "`grid` is an example of a <i>geometry manager</i>. We specified the column and row we wanted each widget to go on. There are several in Tk.\n"
   ]
  },
  {
   "cell_type": "markdown",
   "metadata": {},
   "source": [
    "<h5>The Problem</h5>\n",
    "the geometry manager takes different widgets and position them in the window but it has to balance multiple constraints\n",
    "<li>the widgets <i>natural size</i></li>\n",
    "<li>extra space </li>\n",
    "<li>application window is resized</li>\n",
    "<li>how they are aligned and the space between them</li>\n"
   ]
  },
  {
   "cell_type": "markdown",
   "metadata": {},
   "source": [
    "<h5>How it Works</h5>\n",
    "Tk relies on the concept of <i>master</i> and <i>slave</i> widgets.\n",
    "geometry manager collects information the child/slaves in the master/paraent the master then calculates the area each slave will be allocated. The slave is reponsible for rendering itself\n"
   ]
  },
  {
   "cell_type": "markdown",
   "metadata": {},
   "source": [
    "<h3>Event Handling</h3>"
   ]
  },
  {
   "cell_type": "markdown",
   "metadata": {},
   "source": [
    "Tk runs on <i>event loop</i>, things like button presses, mouse movement, window resizing and so on.\n"
   ]
  },
  {
   "cell_type": "markdown",
   "metadata": {},
   "source": [
    "<h5>Command Callbacks</h5>\n",
    "the widget will allow you to specirfy a <i>callback</i> as a widget configuration option.\n",
    "Most of the time a callback wil call some other procedure."
   ]
  },
  {
   "cell_type": "code",
   "execution_count": 9,
   "metadata": {},
   "outputs": [],
   "source": [
    "from tkinter import *\n",
    "from tkinter import ttk\n",
    "\n",
    "def calculate(*args):\n",
    "    \"\"\"does a calculation\"\"\"\n",
    "    pass\n",
    "\n",
    "root = Tk()\n",
    "mainframe = ttk.Frame(root)\n",
    "mainframe.grid(column=0, row=0, sticky=(N, W, E, S))\n",
    "button = ttk.Button(mainframe, text=\"Calculate\", command=calculate)\n",
    "button.grid(column=1, row=1, sticky=W)\n",
    "\n",
    "root.mainloop()"
   ]
  },
  {
   "cell_type": "markdown",
   "metadata": {},
   "source": [
    "<h5>Binding to Events</h5>"
   ]
  },
  {
   "cell_type": "markdown",
   "metadata": {},
   "source": [
    "For events that dont have a widget-specific command callback, you can use Tk's `bind` to capture any event and then execute an arbitrary piece of code"
   ]
  },
  {
   "cell_type": "code",
   "execution_count": 13,
   "metadata": {},
   "outputs": [],
   "source": [
    "from tkinter import *\n",
    "from tkinter import ttk\n",
    "root = Tk()\n",
    "l = ttk.Label(root, text=\"Starting...\")\n",
    "l.grid()\n",
    "l.bind('<Enter>', lambda e: l.configure(text='Moved mouse inside'))\n",
    "l.bind('<Leave>'), lambda e: l.configure(text='Moved mouse outside')\n",
    "l.bind('<ButtonPress-1>', lambda e: l.configure(text='Clicked left mouse button'))\n",
    "l.bind('<3>', lambda e: l.configure(text='Clicked right mouse button'))\n",
    "l.bind('<Double-l>', lambda e: l.configure(text=\"Double clicked\"))\n",
    "l.bind('<B3-Motion>', lambda e: l.configure(text='right button drag to %d,%d' % (e.x, e.y)))\n",
    "root.mainloop()\n"
   ]
  },
  {
   "cell_type": "markdown",
   "metadata": {},
   "source": [
    "first two are simple `<Enter>` means mouse moved over and `<Leave>` event when the mouse moved outside the widget.<br><br>\n",
    "`<ButtonPress-1>` the actual even it `<ButtonPress>` -1 specified the left mouse button.<br><br>\n",
    "the next binding looks for `<3>` which is shorthand for `<ButtonPress-3>` it reponds when the right mouse button is clicked<br><br>\n",
    "`<Double-1>` shorthand for `<Double-ButtonPress-1>` responds to left mouse being double-clicked.<br><br>\n",
    "The last captures mouse movement (Motion) but only when the right mouse button (B3) is held this also uses event parameters, events that carry additional information such as the position of the mouse.\n",
    "\n"
   ]
  },
  {
   "cell_type": "markdown",
   "metadata": {},
   "source": [
    "<h5> Multiple Bindings for an Event</h5>"
   ]
  },
  {
   "cell_type": "markdown",
   "metadata": {},
   "source": [
    "You can also capture a sequence of events such as `<KeyPress-A><keyPress-B>` or simply `<ab>`"
   ]
  },
  {
   "cell_type": "markdown",
   "metadata": {},
   "source": [
    "<h3>Available Events</h3>"
   ]
  },
  {
   "cell_type": "markdown",
   "metadata": {},
   "source": [
    "The most commonly used events are described below, along with the circumstances when they are generated For a complete description of all the different event names, modifiers, and the different event parameters that are available with each, the best place to look is the bind command reference.\n",
    "\n",
    "`<Activate>`\n",
    "Window has become active.\n",
    "`<Deactivate>`\n",
    "Window has been deactivated.\n",
    "`<MouseWheel>`\n",
    "Scroll wheel on mouse has been moved.\n",
    "`<KeyPress>`\n",
    "Key on keyboard has been pressed down.\n",
    "`<KeyRelease>`\n",
    "Key has been released.\n",
    "`<ButtonPress>`\n",
    "A mouse button has been pressed.\n",
    "`<ButtonRelease>`\n",
    "A mouse button has been released.\n",
    "`<Motion>`\n",
    "Mouse has been moved.\n",
    "`<Configure>`\n",
    "Widget has changed size or position.\n",
    "`<Destroy>`\n",
    "Widget is being destroyed.\n",
    "`<FocusIn>`\n",
    "Widget has been given keyboard focus.\n",
    "`<FocusOut>`\n",
    "Widget has lost keyboard focus.\n",
    "`<Enter>`\n",
    "Mouse pointer enters widget.\n",
    "`<Leave>`\n",
    "Mouse pointer leaves widget."
   ]
  },
  {
   "cell_type": "markdown",
   "metadata": {},
   "source": [
    "Event detail for mouse events is the button that was pressed, e.g., 1, 2, or 3. For keyboard events, it's the specific key, e.g., A, 9, space, plus, comma, equal. A complete list can be found in the [keysyms](https://tcl.tk/man/tcl8.6/TkCmd/keysyms.htm) command reference.\n",
    "\n",
    "Event modifiers can include, e.g., B1 or Button1 to signify the main mouse button being held down, Double or Triple for sequences of the same event. Key modifiers for when keys on the keyboard are held down inline Control, Shift, Alt, Option, and Command."
   ]
  },
  {
   "cell_type": "markdown",
   "metadata": {},
   "source": [
    "<h3>Virtual Events</h3>"
   ]
  },
  {
   "cell_type": "markdown",
   "metadata": {},
   "source": [
    "Many widgets generate a higher level semantic vevnets called virtual events. These are indicat3ed by double angle brackets `<<foo>>`.\n",
    "A list box widget will generate a `<<ListboxSelect>>` virtual event when its slection changes.\n",
    "you can also have `<<Cut>>`, `<<Copy>>`, `<<Paste>>`\n",
    "\n",
    "You can also create your own virtual event"
   ]
  },
  {
   "cell_type": "code",
   "execution_count": null,
   "metadata": {},
   "outputs": [],
   "source": [
    "root.event_genreate(\"<<MyOwnEvent>>\")"
   ]
  }
 ],
 "metadata": {
  "kernelspec": {
   "display_name": "venv",
   "language": "python",
   "name": "python3"
  },
  "language_info": {
   "codemirror_mode": {
    "name": "ipython",
    "version": 3
   },
   "file_extension": ".py",
   "mimetype": "text/x-python",
   "name": "python",
   "nbconvert_exporter": "python",
   "pygments_lexer": "ipython3",
   "version": "3.10.11"
  }
 },
 "nbformat": 4,
 "nbformat_minor": 2
}
