{
 "cells": [
  {
   "cell_type": "markdown",
   "metadata": {},
   "source": [
    "<h1>More Widgets</h1>"
   ]
  },
  {
   "cell_type": "markdown",
   "metadata": {},
   "source": [
    "We will introduce more widgets such as:<br>\n",
    "listbox<br>\n",
    "scrollbar<br>\n",
    "text<br>\n",
    "scale<br>\n",
    "spinbox<br>\n",
    "progressbar<br>"
   ]
  },
  {
   "cell_type": "markdown",
   "metadata": {},
   "source": [
    "<h2>Listbox</h2>"
   ]
  },
  {
   "cell_type": "markdown",
   "metadata": {},
   "source": [
    "<li> <a href=\"https://tkdocs.com/widgets/index.html\">Widget Roundup</li> \n",
    "<li> <a href=\"https://tcl.tk/man/tcl8.6/TkCmd/contents.html\">Tk reference manual page</li>"
   ]
  },
  {
   "cell_type": "markdown",
   "metadata": {},
   "source": [
    "<b>listbox</b> widgets displays a list of single-line text items.<br>\n",
    "Listboxes are part of the classic Tk widgets and there is presently not a listbox in the themed Tk widget set.<br><br>\n",
    "Each listbox has a `listvariable` configuration option which must be a list but it has a cavet You need to use `StringVar` as an intermediary, this means anytime we need to change the list we need to update the `StringVar`"
   ]
  },
  {
   "cell_type": "code",
   "execution_count": null,
   "metadata": {},
   "outputs": [],
   "source": [
    "from tkinter import *\n",
    "from tkinter import ttk\n",
    "\n",
    "root = Tk()\n",
    "frame = ttk.Frame(root)\n",
    "frame.grid()\n",
    "\n",
    "choices = ['apple', 'orange', 'banana']\n",
    "choicesvar = StringVar(value=choices)\n",
    "l = Listbox(frame, height=10, listvariable=choicesvar)\n",
    "l.grid()\n",
    "\n",
    "\"\"\"Run first commented then uncomment\"\"\"\n",
    "# choices.append(\"peach\")\n",
    "# choicesvar.set(choices)\n",
    "\n",
    "root.mainloop()"
   ]
  },
  {
   "cell_type": "markdown",
   "metadata": {},
   "source": [
    "<h3>Selecting Items</h3>"
   ]
  },
  {
   "cell_type": "markdown",
   "metadata": {},
   "source": [
    "the `selectmode` option (default: `browse`) can be changed to select a single item, or `extended` allowing users to select multiple items.<br>\n",
    "<i>NOTE:SINGLE AND MULTIPLE OPTIONS SHOULD NOT BE USED</i><br><br>\n",
    "The `curselection` method returns a list of selected items.You can also use the `selection_includes(index)` method to check if the item with the given index is currently selected.<br><br>\n",
    "a `<<ListboxSelect>>`virtual event is generated when a user changes selection.<br>\n",
    "You can bind to this to take any action you need.<br>\n",
    "You can also bind to a double click `<Double-1`>` event and use it to invoke an action"
   ]
  },
  {
   "cell_type": "code",
   "execution_count": null,
   "metadata": {},
   "outputs": [
    {
     "name": "stdout",
     "output_type": "stream",
     "text": [
      "((2,),)\n",
      "User has selected 2, We will now select 0 for him \n",
      "((0,),)\n",
      "((2,),)\n",
      "User has selected 2, We will now select 0 for him \n",
      "((0,),)\n",
      "((),)\n",
      "((2,),)\n",
      "User has selected 2, We will now select 0 for him \n"
     ]
    }
   ],
   "source": [
    "from tkinter import *\n",
    "from tkinter import ttk\n",
    "import time\n",
    "def check_icx_2_in_list(*args):\n",
    "    print(args)\n",
    "    if l.selection_includes(2):\n",
    "        print('User has selected 2, We will now select 0 for them ')\n",
    "        time.sleep(1)\n",
    "        l.selection_set(0)\n",
    "        l.see(0)\n",
    "\n",
    "\n",
    "root = Tk()\n",
    "frame = ttk.Frame(root)\n",
    "frame.grid()\n",
    "\n",
    "choices = ['apple', 'orange', 'banana']\n",
    "choicesvar = StringVar(value=choices)\n",
    "l = Listbox(frame, height=10, listvariable=choicesvar, selectmode='extended')\n",
    "\n",
    "l.bind(\"<<ListboxSelect>>\", lambda e: check_icx_2_in_list(l.curselection()))\n",
    "\n",
    "l.grid()\n",
    "\n",
    "\n",
    "root.mainloop()\n",
    "\n",
    "#note: when selectmode='extended' hold CTRL and click"
   ]
  },
  {
   "cell_type": "markdown",
   "metadata": {},
   "source": [
    "<h3>Stylizing the List</h3>"
   ]
  },
  {
   "cell_type": "markdown",
   "metadata": {},
   "source": [
    "[Listbox reference](https://tcl.tk/man/tcl8.6/TkCmd/listbox.htm), you can modify the font, forground, background, for normal state or selected state, theres also an `itemconfigure` method that allows to chnage individual items."
   ]
  },
  {
   "cell_type": "markdown",
   "metadata": {},
   "source": [
    "<h3>Keeping Extra Item Data</h3>"
   ]
  },
  {
   "cell_type": "markdown",
   "metadata": {},
   "source": [
    "we can create extra item data that correspond to other important data that is behind the scense for instance a hash table that gets whatever other data we want or we can also just keep a list or a tuple with the corresponding data we want at the same indexes below is an example showing both of those"
   ]
  },
  {
   "cell_type": "code",
   "execution_count": 3,
   "metadata": {},
   "outputs": [
    {
     "name": "stdout",
     "output_type": "stream",
     "text": [
      "Listbox items: ('Argentina', 'Australia', 'Belgium', 'Brazil', 'Canada', 'China', 'Denmark', 'Finland', 'France', 'Greece', 'India', 'Italy', 'Japan', 'Mexico', 'Netherlands', 'Norway', 'Spain', 'Sweden', 'Switzerland')\n"
     ]
    }
   ],
   "source": [
    "from tkinter import *\n",
    "from tkinter import ttk\n",
    "root = Tk()\n",
    "\n",
    "countrycodes = ('ar', 'au', 'be', 'br', 'ca', 'cn', 'dk', 'fi', 'gr', 'in', 'it', 'jp', 'mx', 'nl', 'no', 'es', 'se', 'ch')\n",
    "countrynames = ('Argentina', 'Australia', 'Belgium', 'Brazil', 'Canada', 'China', 'Denmark', \\\n",
    "        'Finland', 'France', 'Greece', 'India', 'Italy', 'Japan', 'Mexico', 'Netherlands', 'Norway', 'Spain', \\\n",
    "        'Sweden', 'Switzerland')\n",
    "cnames = StringVar(value=countrynames)\n",
    "populations = {'ar':41000000, 'au':21179211, 'be':10584534, 'br':185971537, \\\n",
    "        'ca':33148682, 'cn':1323128240, 'dk':5457415, 'fi':5302000, 'fr':64102140, 'gr':11147000, \\\n",
    "        'in':1131043000, 'it':59206382, 'jp':127718000, 'mx':106535000, 'nl':16402414, \\\n",
    "        'no':4738085, 'es':45116894, 'se':9174082, 'ch':7508700}\n",
    "\n",
    "gifts = {'card': 'Greeting card', 'flowers':'Flowers', 'nastygram':'Nastygram'}\n",
    "\n",
    "gift = StringVar()\n",
    "sentmsg = StringVar()\n",
    "statusmsg = StringVar()\n",
    "\n",
    "def showPopulation(*args):\n",
    "    idxs = lbox.curselection()\n",
    "    if len(idxs)==1:\n",
    "        idx = int(idxs[0])\n",
    "        code = countrycodes[idx]\n",
    "        name = countrynames[idx]\n",
    "        popn = populations[code]\n",
    "        statusmsg.set(\"The population of %s (%s) is %d\" % (name, code, popn))\n",
    "    sentmsg.set('')\n",
    "\n",
    "def sendGift(*args):\n",
    "    idxs = lbox.curselection()\n",
    "    if len(idxs)==1:\n",
    "        idx = int(idxs[0])\n",
    "        lbox.see(idx)\n",
    "        name = countrynames[idx]\n",
    "        sentmsg.set(\"Sent %s to leader of %s\" % (gifts[gift.get()], name))\n",
    "\n",
    "\n",
    "c = ttk.Frame(root, padding=(5,5,12,0))\n",
    "c.grid(column=0, row=0, sticky=(N,W,E,S))\n",
    "root.grid_columnconfigure(0, weight=1)\n",
    "root.grid_rowconfigure(0, weight=1)\n",
    "\n",
    "lbox = Listbox(c, listvariable=cnames, height=5)\n",
    "lbl = ttk.Label(c, text=\"Send to country's leader:\")\n",
    "g1 = ttk.Radiobutton(c, text=gifts['card'], variable=gift, value='card')\n",
    "g2 = ttk.Radiobutton(c, text=gifts['flowers'], variable=gift, value='flowers')\n",
    "g3 = ttk.Radiobutton(c, text=gifts['nastygram'], variable=gift, value='nastygram')\n",
    "send = ttk.Button(c, text='Send Gift', command=sendGift, default='active')\n",
    "sentlbl = ttk.Label(c, textvariable=sentmsg, anchor='center')\n",
    "status = ttk.Label(c, textvariable=statusmsg, anchor=W)\n",
    "\n",
    "lbox.grid(column=0, row=0, rowspan=6, sticky=(N,S,E,W))\n",
    "lbl.grid(column=1, row=0, padx=10, pady=5)\n",
    "g1.grid(column=1, row=1, sticky=W, padx=20)\n",
    "g2.grid(column=1, row=2, sticky=W, padx=20)\n",
    "g3.grid(column=1, row=3, sticky=W, padx=20)\n",
    "send.grid(column=2, row=4, sticky=E)\n",
    "sentlbl.grid(column=1, row=5, columnspan=2, sticky=N, pady=5, padx=5)\n",
    "status.grid(column=0, row=6, columnspan=2, sticky=(W,E))\n",
    "\n",
    "c.grid_columnconfigure(0, weight=1)\n",
    "c.grid_rowconfigure(0, weight=1)\n",
    "\n",
    "lbox.bind('<<ListboxSelect>>', showPopulation)\n",
    "lbox.bind('<Double-1>', sendGift)\n",
    "lbox.bind('<Return>', sendGift)\n",
    "\n",
    "\n",
    "\n",
    "#def delayed_commands():\n",
    "print(\"Listbox items:\",lbox.get(0,'end'))\n",
    "for i in range(0,len(countrynames),2):\n",
    "    lbox.itemconfigure(i, background='#f0f0ff')\n",
    "#root.after(100, delayed_commands)\n",
    "\n",
    "gift.set('card')\n",
    "sentmsg.set('')\n",
    "statusmsg.set('')\n",
    "lbox.selection_set(0)\n",
    "showPopulation()\n",
    "\n",
    "root.mainloop()\n",
    "\n"
   ]
  },
  {
   "cell_type": "markdown",
   "metadata": {},
   "source": [
    "<h2>Scrollbar</h2>"
   ]
  },
  {
   "cell_type": "markdown",
   "metadata": {},
   "source": [
    "<li> <a href=\"https://tkdocs.com/widgets/index.html\">Widget Roundup</li> \n",
    "<li> <a href=\"https://tcl.tk/man/tcl8.6/TkCmd/contents.html\">Tk reference manual page</li>"
   ]
  },
  {
   "cell_type": "markdown",
   "metadata": {},
   "source": [
    "a <b>scrollbar<b> helps users see all parts of another widget."
   ]
  },
  {
   "cell_type": "code",
   "execution_count": 10,
   "metadata": {},
   "outputs": [],
   "source": [
    "from tkinter import *\n",
    "from tkinter import ttk\n",
    "\n",
    "root = Tk()\n",
    "countrynames = ('Argentina', 'Australia', 'Belgium', 'Brazil', 'Canada', 'China', 'Denmark', \\\n",
    "        'Finland', 'France', 'Greece', 'India', 'Italy', 'Japan', 'Mexico', 'Netherlands', 'Norway', 'Spain', \\\n",
    "        'Sweden', 'Switzerland')\n",
    "cnames = StringVar(value=countrynames)\n",
    "\n",
    "frame = ttk.Frame(root, padding=(5,5,12,0))\n",
    "frame.grid(column=0, row=0, sticky=(N,S,E,W))\n",
    "lbox = Listbox(frame, listvariable=cnames,height=5)\n",
    "\n",
    "s = ttk.Scrollbar(frame, orient=\"vertical\", command=lbox.yview)\n",
    "lbox.configure(yscrollcommand=s.set)\n",
    "\n",
    "lbox.grid(column=0, row=0)\n",
    "s.grid(column=1,row=0, sticky=(W,N,S))\n",
    "\n",
    "root.mainloop()\n"
   ]
  },
  {
   "cell_type": "markdown",
   "metadata": {},
   "source": [
    "The `orient` configuration determines whether the scrollbar wills croll the scrolled widget in the `horizontal` or `vertical` dimension.<br>\n",
    "the `command` specifies how to communciate with the scrolled widget, every widget has either `yview` or `xview`. <br>\n",
    "In addition the scrolled widgets also needs to communciate back to the scrollbar, so it can tell it what percentage of the entire contnet area is now visable. E very scrollable widget has 2 configuration options `yscrollcommand` and `xscrollcommand` which must be `set` "
   ]
  },
  {
   "cell_type": "markdown",
   "metadata": {},
   "source": [
    "<h3>Example</h3>"
   ]
  },
  {
   "cell_type": "code",
   "execution_count": null,
   "metadata": {},
   "outputs": [],
   "source": [
    "from tkinter import *\n",
    "from tkinter import ttk\n",
    "\n",
    "root = Tk()\n",
    "l = Listbox(root, height=5)\n",
    "l.grid(column=0, row=0, sticky=(N,W,E,S))\n",
    "\n",
    "s = ttk.Scrollbar(root, orient='vertical', command=l.yview)\n",
    "s.grid(column=1, row=0, sticky=(N,S))\n",
    "l['yscrollcommand'] = s.set\n",
    "\n",
    "ttk.Label(root, text=\"Status message here\", anchor=(W)).grid(column=0, columnspan=2, row=1, sticky=(W,E))\n",
    "root.grid_columnconfigure(0,weight=1)\n",
    "root.grid_rowconfigure(0, weight=1)\n",
    "\n",
    "for i in range(1,101):\n",
    "    l.insert('end', 'Line %d of 100' % i)\n",
    "root.mainloop()"
   ]
  },
  {
   "cell_type": "markdown",
   "metadata": {},
   "source": [
    "<h2>Text</h2>"
   ]
  },
  {
   "cell_type": "markdown",
   "metadata": {},
   "source": [
    "<li> <a href=\"https://tkdocs.com/widgets/index.html\">Widget Roundup</li> \n",
    "<li> <a href=\"https://tcl.tk/man/tcl8.6/TkCmd/contents.html\">Tk reference manual page</li>"
   ]
  },
  {
   "cell_type": "markdown",
   "metadata": {},
   "source": [
    "a <b>text</b> widget provides an area where a user can enter multiple lines of text. These are part of classic and not themed.(not in ttk)<br>\n",
    "The `width` and `height` specify the size of the text widget.\n",
    "the `wrap` configuration option has many options such as `none`, `char`, `word`<br><br>\n",
    "It can also be disabled so that no editing can occur because its not a themed widets you have to set the configuration option `state` to either `disabled` or `normal`<br><br>\n",
    "Scrolling works the same way as in listboxes. The `xscrollcommand` and `yscrollcommand` configuration option must be `set`"
   ]
  },
  {
   "cell_type": "code",
   "execution_count": 15,
   "metadata": {},
   "outputs": [],
   "source": [
    "from tkinter import *\n",
    "from tkinter import ttk\n",
    "\n",
    "root = Tk()\n",
    "t = Text(root, width=40, height=10, wrap='word')\n",
    "t.grid(column=0, row=0, sticky=W)\n",
    "s = ttk.Scrollbar(root, orient='vertical', command=t.yview)\n",
    "s.grid(column=1, row=0, sticky=(N,S))\n",
    "t.configure(yscrollcommand=s.set)\n",
    "\n",
    "root.mainloop()"
   ]
  },
  {
   "cell_type": "markdown",
   "metadata": {},
   "source": [
    "<h3>Contents</h3>"
   ]
  },
  {
   "cell_type": "markdown",
   "metadata": {},
   "source": [
    "To retrive the contents of the entire text widget, call the method `get 1.0 end`; the `1.0` is an index into the text and mens the first character of the first line and `end` is shortcut for the index of the last character in the last line.<br><br>\n",
    "Text can be added using the `insert index string` method; again `index` is in the form `line.char` and marks the character before which text is inserted; use `end` to add to the end.<br><br>\n",
    "\n",
    "You can delete a range of text using `delete start end` method, where both `start` and `end` are text indices as already described."
   ]
  },
  {
   "cell_type": "markdown",
   "metadata": {},
   "source": [
    "<h2>Scale</h2>"
   ]
  },
  {
   "cell_type": "markdown",
   "metadata": {},
   "source": [
    "<li> <a href=\"https://tkdocs.com/widgets/index.html\">Widget Roundup</li> \n",
    "<li> <a href=\"https://tcl.tk/man/tcl8.6/TkCmd/contents.html\">Tk reference manual page</li>"
   ]
  },
  {
   "cell_type": "markdown",
   "metadata": {},
   "source": [
    "a <b>scale</b> widget allows users to choose a numeric value through direct manipulation.<br>\n",
    "`s = ttk.Scale(parent, orient='horizontal', length=200, from_=1.0, to=100.0)`<br>\n",
    "<i>'from' is a reserved keyword in Python, we need to add a trailing unserscore when using it as a configuration option.</i>"
   ]
  },
  {
   "cell_type": "code",
   "execution_count": null,
   "metadata": {},
   "outputs": [],
   "source": [
    "from tkinter import *\n",
    "from tkinter import ttk\n",
    "\n",
    "root = Tk()\n",
    "num = StringVar()\n",
    "ttk.Label(root, textvariable=num).grid(column=0, row=0, sticky='we')\n",
    "\n",
    "manual = ttk.Label(root)\n",
    "manual.grid(column=0, row=1, sticky='we')\n",
    "\n",
    "def update_lbl(val):\n",
    "    manual['text'] = \"Scale at \" + val\n",
    "\n",
    "scale = ttk.Scale(root, orient='horizontal', length=200, from_=1.0, to=100.0, variable=num, command=update_lbl)\n",
    "scale.grid(column=0, row=2, sticky='we')\n",
    "scale.set(20)\n",
    "\n",
    "root.mainloop()"
   ]
  },
  {
   "cell_type": "markdown",
   "metadata": {},
   "source": [
    "<h2>Spinbox</h2>"
   ]
  },
  {
   "cell_type": "markdown",
   "metadata": {},
   "source": [
    "<li> <a href=\"https://tkdocs.com/widgets/index.html\">Widget Roundup</li> \n",
    "<li> <a href=\"https://tcl.tk/man/tcl8.6/TkCmd/contents.html\">Tk reference manual page</li>"
   ]
  },
  {
   "cell_type": "markdown",
   "metadata": {},
   "source": [
    "A `spinbox` widget allows users to choose number(or, in fact, items from an arbitrary list). it does this by conmbining an entry-like widget showing the current value witha pair of small up/down arrows, which can be used to step throught he range of possible choices.<br><br>\n",
    "We can also change the state of these to readonly if we dont want the user able to select anything, or even disable it completely"
   ]
  },
  {
   "cell_type": "code",
   "execution_count": 28,
   "metadata": {},
   "outputs": [],
   "source": [
    "from tkinter import *\n",
    "from tkinter import ttk\n",
    "\n",
    "root = Tk()\n",
    "frame = ttk.Frame()\n",
    "frame.grid(column=0, row=0, sticky=(N,W,E,S))\n",
    "\n",
    "days_of_week = ['Monday', 'Tuesday', 'Wednesday', 'Thursday', 'Friday', 'Saturday', 'Sunday']\n",
    "\n",
    "spinval1 = StringVar()\n",
    "\n",
    "s1 = ttk.Spinbox(frame, from_=1.0, to=100.0, textvariable=spinval1)\n",
    "s2 = ttk.Spinbox(frame, values=days_of_week)\n",
    "\n",
    "s1.grid(column=0, row=0)\n",
    "s2.grid(column=1, row=0)\n",
    "\n",
    "s2.state(['readonly'])\n",
    "root.mainloop()"
   ]
  },
  {
   "cell_type": "markdown",
   "metadata": {},
   "source": [
    "Theres also a boolean `wrap` option.<br>\n",
    "You can slo specirfy the `width`<br>\n",
    "You can also set the value normally this is used by linking a variable with nthe textvariable in the configuration options and the `set` and `get` methods to change or retrieve the data<br><br>\n",
    "Spinboxes generate a virtual even when users press up `<<Increment>>` and `<<Decremement>>`, a `command` configuration option allows you to provide a callback that is invoked on any changes."
   ]
  },
  {
   "cell_type": "markdown",
   "metadata": {},
   "source": [
    "<h2>Progressbar</h2>"
   ]
  },
  {
   "cell_type": "markdown",
   "metadata": {},
   "source": [
    "<li> <a href=\"https://tkdocs.com/widgets/index.html\">Widget Roundup</li> \n",
    "<li> <a href=\"https://tcl.tk/man/tcl8.6/TkCmd/contents.html\">Tk reference manual page</li>"
   ]
  },
  {
   "cell_type": "markdown",
   "metadata": {},
   "source": [
    "a <b>progressbar</b> widget provides feedback to users about the progress of a lengthy operation.<br>\n",
    "There are 2 different modes `'determinate'`and `'indeterminate'`<br>\n",
    "`determinate` will show progress towards completion.\n",
    "`indeterminate` will show that the operation is continuing but without showing relative progress<br><br>\n",
    "<h3>Example of Determinate</h3>"
   ]
  },
  {
   "cell_type": "code",
   "execution_count": 1,
   "metadata": {},
   "outputs": [],
   "source": [
    "from tkinter import *\n",
    "from tkinter import ttk\n",
    "import time\n",
    "\n",
    "def start_progress():  \n",
    "    total_steps = 20\n",
    "    step_duration = 1000 # milliseconds\n",
    "    current_step = 0\n",
    "\n",
    "    def update_progress():\n",
    "        nonlocal current_step\n",
    "        current_step += 1\n",
    "        progress.set((current_step / total_steps)* 100)\n",
    "        if current_step < total_steps:\n",
    "            root.after(step_duration, update_progress)\n",
    "    update_progress()\n",
    "\n",
    "\n",
    "root = Tk()\n",
    "root.title(\"Determinate Progressbar Example\")\n",
    "\n",
    "progress = DoubleVar()\n",
    "\n",
    "frame = ttk.Frame(root).grid(column=0, row=0, sticky=(N,W,S,E))\n",
    "\n",
    "p = ttk.Progressbar(frame, orient='horizontal', length=200, mode='determinate', maximum=100.0, variable=progress)\n",
    "p.grid(column=0, row=0, sticky=(W,E))\n",
    "\n",
    "start_button = ttk.Button(frame, text=\"Start Operation\", command=start_progress)\n",
    "start_button.grid(column=0, row=2, sticky=N)\n",
    "\n",
    "root.mainloop()"
   ]
  },
  {
   "cell_type": "markdown",
   "metadata": {},
   "source": [
    "<h3>Example of Indeterminate</h3>"
   ]
  },
  {
   "cell_type": "code",
   "execution_count": 8,
   "metadata": {},
   "outputs": [],
   "source": [
    "from tkinter import *\n",
    "from tkinter import ttk\n",
    "import time\n",
    "\n",
    "def start_progress():  \n",
    "    p.start(10)\n",
    "    root.after(20000, stop_progress)\n",
    "    \n",
    "def stop_progress():\n",
    "    p.stop()\n",
    "\n",
    "root = Tk()\n",
    "root.title(\"Determinate Progressbar Example\")\n",
    "\n",
    "\n",
    "frame = ttk.Frame(root).grid(column=0, row=0, sticky=(N,W,S,E))\n",
    "\n",
    "p = ttk.Progressbar(frame, orient='horizontal', length=200, mode='indeterminate', maximum=100.0)\n",
    "p.grid(column=0, row=0, sticky=(W,E))\n",
    "\n",
    "start_button = ttk.Button(frame, text=\"Start Operation\", command=start_progress)\n",
    "start_button.grid(column=0, row=2, sticky=N)\n",
    "\n",
    "root.mainloop()"
   ]
  }
 ],
 "metadata": {
  "kernelspec": {
   "display_name": "venv",
   "language": "python",
   "name": "python3"
  },
  "language_info": {
   "codemirror_mode": {
    "name": "ipython",
    "version": 3
   },
   "file_extension": ".py",
   "mimetype": "text/x-python",
   "name": "python",
   "nbconvert_exporter": "python",
   "pygments_lexer": "ipython3",
   "version": "3.10.11"
  }
 },
 "nbformat": 4,
 "nbformat_minor": 2
}
