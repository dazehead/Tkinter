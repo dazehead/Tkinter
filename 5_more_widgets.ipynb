{
 "cells": [
  {
   "cell_type": "markdown",
   "metadata": {},
   "source": [
    "<h1>More Widgets</h1>"
   ]
  },
  {
   "cell_type": "markdown",
   "metadata": {},
   "source": [
    "We will introduce more widgets such as:<br>\n",
    "listbox<br>\n",
    "scrollbar<br>\n",
    "text<br>\n",
    "scale<br>\n",
    "spinbox<br>\n",
    "progressbar<br>"
   ]
  },
  {
   "cell_type": "markdown",
   "metadata": {},
   "source": [
    "<h2>Listbox</h2>"
   ]
  },
  {
   "cell_type": "markdown",
   "metadata": {},
   "source": [
    "<li> <a href=\"https://tkdocs.com/widgets/index.html\">Widget Roundup</li> \n",
    "<li> <a href=\"https://tcl.tk/man/tcl8.6/TkCmd/contents.html\">Tk reference manual page</li>"
   ]
  },
  {
   "cell_type": "markdown",
   "metadata": {},
   "source": [
    "<b>listbox</b> widgets displays a list of single-line text items.<br>\n",
    "Listboxes are part of the classic Tk widgets and there is presently not a listbox in the themed Tk widget set.<br><br>\n",
    "Each listbox has a `listvariable` configuration option which must be a list but it has a cavet You need to use `StringVar` as an intermediary, this means anytime we need to change the list we need to update the `StringVar`"
   ]
  },
  {
   "cell_type": "code",
   "execution_count": null,
   "metadata": {},
   "outputs": [],
   "source": [
    "from tkinter import *\n",
    "from tkinter import ttk\n",
    "\n",
    "root = Tk()\n",
    "frame = ttk.Frame(root)\n",
    "frame.grid()\n",
    "\n",
    "choices = ['apple', 'orange', 'banana']\n",
    "choicesvar = StringVar(value=choices)\n",
    "l = Listbox(frame, height=10, listvariable=choicesvar)\n",
    "l.grid()\n",
    "\n",
    "\"\"\"Run first commented then uncomment\"\"\"\n",
    "# choices.append(\"peach\")\n",
    "# choicesvar.set(choices)\n",
    "\n",
    "root.mainloop()"
   ]
  },
  {
   "cell_type": "markdown",
   "metadata": {},
   "source": [
    "<h3>Selecting Items</h3>"
   ]
  },
  {
   "cell_type": "markdown",
   "metadata": {},
   "source": [
    "the `selectmode` option (default: `browse`) can be changed to select a single item, or `extended` allowing users to select multiple items.<br>\n",
    "<i>NOTE:SINGLE AND MULTIPLE OPTIONS SHOULD NOT BE USED</i><br><br>\n",
    "The `curselection` method returns a list of selected items.You can also use the `selection_includes(index)` method to check if the item with the given index is currently selected.<br><br>\n",
    "a `<<ListboxSelect>>`virtual event is generated when a user changes selection.<br>\n",
    "You can bind to this to take any action you need.<br>\n",
    "You can also bind to a double click `<Double-1`>` event and use it to invoke an action"
   ]
  },
  {
   "cell_type": "code",
   "execution_count": null,
   "metadata": {},
   "outputs": [
    {
     "name": "stdout",
     "output_type": "stream",
     "text": [
      "((2,),)\n",
      "User has selected 2, We will now select 0 for him \n",
      "((0,),)\n",
      "((2,),)\n",
      "User has selected 2, We will now select 0 for him \n",
      "((0,),)\n",
      "((),)\n",
      "((2,),)\n",
      "User has selected 2, We will now select 0 for him \n"
     ]
    }
   ],
   "source": [
    "from tkinter import *\n",
    "from tkinter import ttk\n",
    "import time\n",
    "def check_icx_2_in_list(*args):\n",
    "    print(args)\n",
    "    if l.selection_includes(2):\n",
    "        print('User has selected 2, We will now select 0 for them ')\n",
    "        time.sleep(1)\n",
    "        l.selection_set(0)\n",
    "        l.see(0)\n",
    "\n",
    "\n",
    "root = Tk()\n",
    "frame = ttk.Frame(root)\n",
    "frame.grid()\n",
    "\n",
    "choices = ['apple', 'orange', 'banana']\n",
    "choicesvar = StringVar(value=choices)\n",
    "l = Listbox(frame, height=10, listvariable=choicesvar, selectmode='extended')\n",
    "\n",
    "l.bind(\"<<ListboxSelect>>\", lambda e: check_icx_2_in_list(l.curselection()))\n",
    "\n",
    "l.grid()\n",
    "\n",
    "\n",
    "root.mainloop()\n",
    "\n",
    "#note: when selectmode='extended' hold CTRL and click"
   ]
  },
  {
   "cell_type": "markdown",
   "metadata": {},
   "source": [
    "<h3>Stylizing the List</h3>"
   ]
  },
  {
   "cell_type": "markdown",
   "metadata": {},
   "source": [
    "[Listbox reference](https://tcl.tk/man/tcl8.6/TkCmd/listbox.htm), you can modify the font, forground, background, for normal state or selected state, theres also an `itemconfigure` method that allows to chnage individual items."
   ]
  },
  {
   "cell_type": "markdown",
   "metadata": {},
   "source": [
    "<h3>Keeping Extra Item Data</h3>"
   ]
  },
  {
   "cell_type": "markdown",
   "metadata": {},
   "source": [
    "we can create extra item data that correspond to other important data that is behind the scense for instance a hash table that gets whatever other data we want or we can also just keep a list or a tuple with the corresponding data we want at the same indexes below is an example showing both of those"
   ]
  },
  {
   "cell_type": "code",
   "execution_count": null,
   "metadata": {},
   "outputs": [],
   "source": [
    "from tkinter import *\n",
    "from tkinter import ttk\n",
    "root = Tk()\n",
    "\n",
    "countrycodes = ('ar', 'au', 'be', 'br', 'ca', 'cn', 'dk', 'fi', 'gr', 'in', 'it', 'jp', 'mx', 'nl', 'no', 'es', 'se', 'ch')\n",
    "countrynames = ('Argentina', 'Australia', 'Belgium', 'Brazil', 'Canada', 'China', 'Denmark', \\\n",
    "        'Finland', 'France', 'Greece', 'India', 'Italy', 'Japan', 'Mexico', 'Netherlands', 'Norway', 'Spain', \\\n",
    "        'Sweden', 'Switzerland')\n",
    "cnames = StringVar(value=countrynames)\n",
    "populations = {'ar':41000000, 'au':21179211, 'be':10584534, 'br':185971537, \\\n",
    "        'ca':33148682, 'cn':1323128240, 'dk':5457415, 'fi':5302000, 'fr':64102140, 'gr':11147000, \\\n",
    "        'in':1131043000, 'it':59206382, 'jp':127718000, 'mx':106535000, 'nl':16402414, \\\n",
    "        'no':4738085, 'es':45116894, 'se':9174082, 'ch':7508700}\n",
    "\n",
    "gifts = {'card': 'Greeting card', 'flowers':'Flowers', 'nastygram':'Nastygram'}\n",
    "\n",
    "gift = StringVar()\n",
    "sentmsg = StringVar()\n",
    "statusmsg = StringVar()\n",
    "\n",
    "def showPopulation(*args):\n",
    "    idxs = lbox.curselection()\n",
    "    if len(idxs)==1:\n",
    "        idx = int(idxs[0])\n",
    "        code = countrycodes[idx]\n",
    "\n",
    "def sendGift(*args):\n",
    "    pass\n",
    "\n",
    "\n",
    "c = ttk.Frame(root, padding=(5,5,12,0))\n",
    "c.grid(column=0, row=0, sticky=(N,W,E,S))\n",
    "root.grid_columnconfigure(0, weight=1)\n",
    "root.grid_rowconfigure(0, weight=1)\n",
    "\n",
    "lbox = Listbox(c, listvariable=cnames, height=5)\n",
    "lbl = ttk.Label(c, text=\"Send to country's leader:\")\n",
    "g1 = ttk.Radiobutton(c, text=gifts['card'], variable=gift, value='card')\n",
    "g2 = ttk.Radiobutton(c, text=gifts['flowers'], varible=gift, value='flowers')\n",
    "g3 = ttk.Radiobutton(c, text=gifts['nastygram'], variable=gift, value='nastygram')\n",
    "send = ttk.Button(c, text='Send Gift', command=sendGift, default='active')\n",
    "sentlbl = ttk.Label(c, textvariable=sentmsg, anchor='center')\n",
    "status = ttk.Label(c, textvariable=statusmsg, anchor=W)\n",
    "\n",
    "lbox.grid(column=0, row=0, rowspan=6, sticky=(N,S,E,W))\n",
    "lbl.grid(column=1, row=0, padx=10, pady=5)\n",
    "g1.grid(column=1, row=1, sticky=W, padx=20)\n",
    "g2.grid(columnn=1, row=2, sticky=W, padx=20)\n",
    "g3.grid(column=1, row=3, sticky=W, padx=20)\n",
    "send.grid(column=2, row=4, sticky=E)\n",
    "sentlbl.grid(column=1, row=5, columnspan=2, sticky=N, pady=5, padx=5)\n",
    "status.grid(column=0, row=6, columnspan=2, sticky=(W,E))\n",
    "\n",
    "c.grid_columnconfigure(0, weight=1)\n",
    "c.grid_rowconfigure(0, weight=1)\n",
    "\n",
    "lbox.bind('<<ListboxSelect>>', showPopulation)\n",
    "lbox.bind('<Double-1>', sendGift)\n",
    "lbox.bind('<Return', sendGift)\n",
    "\n",
    "for i in range(0,len(countrynames),2):\n",
    "    lbox.itemconfigure(i, background='#f0f0ff')\n",
    "\n",
    "gift.set('card')\n",
    "sentmsg.set('')\n",
    "\n"
   ]
  }
 ],
 "metadata": {
  "kernelspec": {
   "display_name": "venv",
   "language": "python",
   "name": "python3"
  },
  "language_info": {
   "codemirror_mode": {
    "name": "ipython",
    "version": 3
   },
   "file_extension": ".py",
   "mimetype": "text/x-python",
   "name": "python",
   "nbconvert_exporter": "python",
   "pygments_lexer": "ipython3",
   "version": "3.10.11"
  }
 },
 "nbformat": 4,
 "nbformat_minor": 2
}
