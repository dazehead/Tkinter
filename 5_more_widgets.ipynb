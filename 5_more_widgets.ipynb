{
 "cells": [
  {
   "cell_type": "markdown",
   "metadata": {},
   "source": [
    "<h1>More Widgets</h1>"
   ]
  },
  {
   "cell_type": "markdown",
   "metadata": {},
   "source": [
    "We will introduce more widgets such as:<br>\n",
    "listbox<br>\n",
    "scrollbar<br>\n",
    "text<br>\n",
    "scale<br>\n",
    "spinbox<br>\n",
    "progressbar<br>"
   ]
  },
  {
   "cell_type": "markdown",
   "metadata": {},
   "source": [
    "<h2>Listbox</h2>"
   ]
  },
  {
   "cell_type": "markdown",
   "metadata": {},
   "source": [
    "<li> <a href=\"https://tkdocs.com/widgets/index.html\">Widget Roundup</li> \n",
    "<li> <a href=\"https://tcl.tk/man/tcl8.6/TkCmd/contents.html\">Tk reference manual page</li>"
   ]
  },
  {
   "cell_type": "markdown",
   "metadata": {},
   "source": [
    "<b>listbox</b> widgets displays a list of single-line text items.<br>\n",
    "Listboxes are part of the classic Tk widgets and there is presently not a listbox in the themed Tk widget set.<br><br>\n",
    "Each listbox has a `listvariable` configuration option which must be a list but it has a cavet You need to use `StringVar` as an intermediary, this means anytime we need to change the list we need to update the `StringVar`"
   ]
  },
  {
   "cell_type": "code",
   "execution_count": null,
   "metadata": {},
   "outputs": [],
   "source": [
    "from tkinter import *\n",
    "from tkinter import ttk\n",
    "\n",
    "root = Tk()\n",
    "frame = ttk.Frame(root)\n",
    "frame.grid()\n",
    "\n",
    "choices = ['apple', 'orange', 'banana']\n",
    "choicesvar = StringVar(value=choices)\n",
    "l = Listbox(frame, height=10, listvariable=choicesvar)\n",
    "l.grid()\n",
    "\n",
    "\"\"\"Run first commented then uncomment\"\"\"\n",
    "# choices.append(\"peach\")\n",
    "# choicesvar.set(choices)\n",
    "\n",
    "root.mainloop()"
   ]
  },
  {
   "cell_type": "markdown",
   "metadata": {},
   "source": [
    "<h3>Selecting Items</h3>"
   ]
  },
  {
   "cell_type": "markdown",
   "metadata": {},
   "source": [
    "the `selectmode` option (default: `browse`) can be changed to select a single item, or `extended` allowing users to select multiple items.<br>\n",
    "<i>NOTE:SINGLE AND MULTIPLE OPTIONS SHOULD NOT BE USED</i><br><br>\n",
    "The `curselection` method returns a list of selected items.You can also use the `selection_includes(index)` method to check if the item with the given index is currently selected.<br><br>\n",
    "a `<<ListboxSelect>>`virtual event is generated when a user changes selection.<br>\n",
    "You can bind to this to take any action you need.<br>\n",
    "You can also bind to a double click `<Double-1`>` event and use it to invoke an action"
   ]
  },
  {
   "cell_type": "code",
   "execution_count": 9,
   "metadata": {},
   "outputs": [
    {
     "name": "stdout",
     "output_type": "stream",
     "text": [
      "User has selected the 2 index\n"
     ]
    }
   ],
   "source": [
    "from tkinter import *\n",
    "from tkinter import ttk\n",
    "def check_icx_2_in_list(*args):\n",
    "    if l.selection_includes(2):\n",
    "        print('User has selected the 2 index')\n",
    "\n",
    "root = Tk()\n",
    "frame = ttk.Frame(root)\n",
    "frame.grid()\n",
    "\n",
    "choices = ['apple', 'orange', 'banana']\n",
    "choicesvar = StringVar(value=choices)\n",
    "l = Listbox(frame, height=10, listvariable=choicesvar)\n",
    "\n",
    "l.bind(\"<<ListboxSelect>>\", lambda e: check_icx_2_in_list(l.curselection()))\n",
    "\n",
    "l.grid()\n",
    "\n",
    "\n",
    "root.mainloop()"
   ]
  },
  {
   "cell_type": "code",
   "execution_count": null,
   "metadata": {},
   "outputs": [],
   "source": []
  },
  {
   "cell_type": "markdown",
   "metadata": {},
   "source": []
  }
 ],
 "metadata": {
  "kernelspec": {
   "display_name": "venv",
   "language": "python",
   "name": "python3"
  },
  "language_info": {
   "codemirror_mode": {
    "name": "ipython",
    "version": 3
   },
   "file_extension": ".py",
   "mimetype": "text/x-python",
   "name": "python",
   "nbconvert_exporter": "python",
   "pygments_lexer": "ipython3",
   "version": "3.10.11"
  }
 },
 "nbformat": 4,
 "nbformat_minor": 2
}
