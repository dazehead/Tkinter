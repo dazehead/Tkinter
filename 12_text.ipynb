{
 "cells": [
  {
   "cell_type": "markdown",
   "metadata": {},
   "source": [
    "<h1>Text</h1>"
   ]
  },
  {
   "cell_type": "markdown",
   "metadata": {},
   "source": [
    "- [Text Reference Manual](https://tcl.tk/man/tcl8.6/TkCmd/text.htm)"
   ]
  },
  {
   "cell_type": "markdown",
   "metadata": {},
   "source": [
    "<h2>The Basics</h2>"
   ]
  },
  {
   "cell_type": "markdown",
   "metadata": {},
   "source": [
    "texts are empty when they are made and usually need to assign width and height to the text box"
   ]
  },
  {
   "cell_type": "code",
   "execution_count": null,
   "metadata": {},
   "outputs": [],
   "source": [
    "from tkinter import *\n",
    "from tkinter import ttk\n",
    "root = Tk()\n",
    "\n",
    "text = Text(root, width=40, height=10)\n",
    "\n",
    "text.grid()\n",
    "root.mainloop()"
   ]
  },
  {
   "cell_type": "markdown",
   "metadata": {},
   "source": [
    "- you use the `insert` method to instert text. The \"1.0\" here is the position where to insert the text, and can be read as line 1, character 0.<br><br>\n",
    "- You can retrive text using the `get` method. you provide the start and end positions."
   ]
  },
  {
   "cell_type": "code",
   "execution_count": null,
   "metadata": {},
   "outputs": [
    {
     "name": "stdout",
     "output_type": "stream",
     "text": [
      "here is my\n",
      "text to insert\n",
      "\n"
     ]
    }
   ],
   "source": [
    "from tkinter import *\n",
    "from tkinter import ttk\n",
    "root = Tk()\n",
    "\n",
    "text = Text(root, width=40, height=10)\n",
    "text.insert('1.0', 'here is my\\ntext to insert')\n",
    "\n",
    "thetext = text.get('1.0', 'end')\n",
    "print(thetext)\n",
    "\n",
    "text.grid()\n",
    "root.mainloop()"
   ]
  },
  {
   "cell_type": "markdown",
   "metadata": {},
   "source": [
    "<h3>Customizing Appearings and Wrap and Scroll</h3>"
   ]
  },
  {
   "cell_type": "markdown",
   "metadata": {},
   "source": [
    "Other useful configuration options are:<br>\n",
    "`foreground`: \n",
    "color to draw the text in<br>\n",
    "`background`: \n",
    "background color of the widget<br>\n",
    "`padx`, `pady`: \n",
    "extra padding along the inside border of the widget<br>\n",
    "`borderwidth`: \n",
    "width of the border around widget<br>\n",
    "`relief`: \n",
    "border style: `flat`, `raised`, `sunken`, `solid`, `ridge`, `groove`<br><br>\n",
    "by default the text wraps around the next line, but it can be changed using the `wrap` configuration option. it defqaults to `char`, other options are `word`, `none`<br>\n",
    "and both horizontal and vertical scrollbars can be attached the text widget the same way other widgets are attached."
   ]
  },
  {
   "cell_type": "code",
   "execution_count": null,
   "metadata": {},
   "outputs": [],
   "source": [
    "from tkinter import *\n",
    "from tkinter import ttk\n",
    "root = Tk()\n",
    "\n",
    "text = Text(root, width=40, height=5, wrap='none', borderwidth=5)\n",
    "yscroll = ttk.Scrollbar(root, orient='vertical', command=text.yview)\n",
    "xscroll = ttk.Scrollbar(root, orient='horizontal', command= text.xview)\n",
    "\n",
    "text['yscrollcommand'] = yscroll.set\n",
    "text['xscrollcommand'] = xscroll.set\n",
    "text.insert('end', \"Lorem ipsum...\\n...\\n...\")\n",
    "\n",
    "text.grid(column=0, row=0, sticky=(N,W,E,S))\n",
    "xscroll.grid(column=0, row=1, sticky=(W,E))\n",
    "yscroll.grid(column=1, row=0, sticky=(N,S))\n",
    "\n",
    "#text['state'] = 'disabled'\n",
    "\n",
    "root.grid_columnconfigure(0, weight=1)\n",
    "root.grid_rowconfigure(0, weight=1)\n",
    "\n",
    "root.mainloop()"
   ]
  },
  {
   "cell_type": "markdown",
   "metadata": {},
   "source": [
    "<h2>Modifying the Text in Code</h2>"
   ]
  },
  {
   "cell_type": "markdown",
   "metadata": {},
   "source": [
    "while users can modify the text manually we can do it using the `insert` method.<br>\n"
   ]
  },
  {
   "cell_type": "markdown",
   "metadata": {},
   "source": [
    "<h2>Text Positions and Indices</h2>"
   ]
  },
  {
   "cell_type": "markdown",
   "metadata": {},
   "source": [
    "Here are a few examples of indices and how to interpret them:<br>"
   ]
  },
  {
   "cell_type": "markdown",
   "metadata": {},
   "source": [
    "`3.end`: \n",
    "The newline at the end of line 3.<br>\n",
    "`1.0 + 3 chars`: \n",
    "Three characters past the start of line 1.<br>\n",
    "`2.end -1 chars`: \n",
    "The last character before the new line in line 2.<br>\n",
    "`end -1 chars`: \n",
    "The newline that Tk always adds at the end of the text.<br>\n",
    "`end -2 chars`: \n",
    "The actual last character of the text.<br>\n",
    "`end -1 lines`: \n",
    "The start of the last actual line of text.<br>\n",
    "`2.2 + 2 lines`: \n",
    "The third character (index 2) of the fourth line of text.<br>\n",
    "`2.5 linestart`: \n",
    "The first character of line 2.<br>\n",
    "`2.5 lineend`: \n",
    "The position of the newline at the end of line 2.<br>\n",
    "`2.5 wordstart`: \n",
    "First char. of the word with the char. at index 2.5.<br>\n",
    "`2.5 wordend`: \n",
    "First char. after the word with the char. at index 2.5.\n"
   ]
  },
  {
   "cell_type": "markdown",
   "metadata": {},
   "source": [
    "Some additional things to keep in mind:<br>\n",
    "- The term chars can be abbreviated as c, and lines as l.\n",
    "- Spaces between terms can be omitted, e.g., 1.0+3c.\n",
    "- An index past the end of the text (e.g., end + 100c) is interpreted as end.\n",
    "- Indices wrap to subsequent lines as needed; e.g., 1.0 + 10 chars on a line with only five characters will refer to a position on the second line.\n",
    "- Line numbers in indices are interpreted as logical lines, i.e., each line ends only at the \"\\n.\" With long lines and wrapping enabled, one logical line may represent multiple display lines. If you'd like to move up or down a single line on the display, you can specify this as, e.g., \"1.0 + 2 display lines\".\n",
    "- When indices contain multiple words, make sure they are quoted appropriately so that Tk sees the entire index as one argument."
   ]
  },
  {
   "cell_type": "markdown",
   "metadata": {},
   "source": [
    "you can also `delete` using the indexes\n",
    "There is also a `replace` method you can use as well"
   ]
  },
  {
   "cell_type": "code",
   "execution_count": null,
   "metadata": {},
   "outputs": [
    {
     "name": "stdout",
     "output_type": "stream",
     "text": [
      "4.0\n",
      "same position\n"
     ]
    }
   ],
   "source": [
    "from tkinter import *\n",
    "root = Tk()\n",
    "text = Text(root, width=40, height=5)\n",
    "\n",
    "text.insert(index='1.0', \n",
    "            chars='i just inserted this text\\nand this one too\\nand this')\n",
    "\n",
    "print(text.index('end'))\n",
    "if text.compare(1.0, '==', 1.0):\n",
    "    print('same position')\n",
    "\n",
    "text.delete('1.2')\n",
    "text.delete('2.0','2.5')\n",
    "\n",
    "text.grid()\n",
    "root.mainloop()\n"
   ]
  },
  {
   "cell_type": "markdown",
   "metadata": {},
   "source": [
    "<h3>Example: Logging Widow</h3>"
   ]
  },
  {
   "cell_type": "markdown",
   "metadata": {},
   "source": [
    "Here's a short example using a text widget as an 80x24 logging window for an application. Users don't edit the text widget at all. Instead, the program writes log messages to it. We'd like to display more than 24 lines (so no scrolling). If the log is full, old messages are removed from the top before new ones are added at the end."
   ]
  },
  {
   "cell_type": "code",
   "execution_count": 4,
   "metadata": {},
   "outputs": [
    {
     "ename": "",
     "evalue": "",
     "output_type": "error",
     "traceback": [
      "\u001b[1;31mThe Kernel crashed while executing code in the current cell or a previous cell. \n",
      "\u001b[1;31mPlease review the code in the cell(s) to identify a possible cause of the failure. \n",
      "\u001b[1;31mClick <a href='https://aka.ms/vscodeJupyterKernelCrash'>here</a> for more info. \n",
      "\u001b[1;31mView Jupyter <a href='command:jupyter.viewOutput'>log</a> for further details."
     ]
    }
   ],
   "source": [
    "from tkinter import *\n",
    "from tkinter import ttk\n",
    "import threading\n",
    "import random\n",
    "import time\n",
    "\n",
    "root = Tk()\n",
    "\n",
    "def write_to_log(msg):\n",
    "    numlines = int(log.index('end - 1 line').split('.')[0])\n",
    "    log['state'] = 'normal'\n",
    "    if numlines ==24:\n",
    "        log.delete(1.0,2.0)\n",
    "    if log.index('end-1c')!='1.0':\n",
    "        log.insert('end', '\\n')\n",
    "    log.insert('end', msg)\n",
    "    log['state'] = 'disabled'\n",
    "\n",
    "def wait_and_log():\n",
    "    button['text'] = 'running log'\n",
    "    button['state'] = 'disabled'\n",
    "    for i in range(50):\n",
    "        time.sleep(.5)\n",
    "        write_to_log(f\"logging: {random.randint(1,10000)}\")\n",
    "    button['text'] = 'start'\n",
    "    button['state'] = 'normal'\n",
    "\n",
    "def start_logging():\n",
    "    thread = threading.Thread(target=wait_and_log)\n",
    "    thread.daemon=True\n",
    "    thread.start()\n",
    "\n",
    "\n",
    "log = Text(root, state='disabled', width=80, height=24, wrap='none')\n",
    "button = ttk.Button(root, text='start', command=start_logging)\n",
    "log.grid()\n",
    "button.grid()\n",
    "\n",
    "root.mainloop()"
   ]
  },
  {
   "cell_type": "markdown",
   "metadata": {},
   "source": []
  }
 ],
 "metadata": {
  "kernelspec": {
   "display_name": "venv",
   "language": "python",
   "name": "python3"
  },
  "language_info": {
   "codemirror_mode": {
    "name": "ipython",
    "version": 3
   },
   "file_extension": ".py",
   "mimetype": "text/x-python",
   "name": "python",
   "nbconvert_exporter": "python",
   "pygments_lexer": "ipython3",
   "version": "3.10.11"
  }
 },
 "nbformat": 4,
 "nbformat_minor": 2
}
