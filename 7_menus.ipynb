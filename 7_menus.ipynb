{
 "cells": [
  {
   "cell_type": "markdown",
   "metadata": {},
   "source": [
    "<h1>Menus</h1>"
   ]
  },
  {
   "cell_type": "markdown",
   "metadata": {},
   "source": [
    "<h3>Menu Widgets and Hierarchy</h3>"
   ]
  },
  {
   "cell_type": "markdown",
   "metadata": {},
   "source": [
    "[menu reference manual](https://tcl.tk/man/tcl8.6/TkCmd/menu.htm)"
   ]
  },
  {
   "cell_type": "markdown",
   "metadata": {},
   "source": [
    "Menus are part of the calssic tk widgets<br>\n",
    "Its important to put specify tearoff to False, tear-off menu allows you to move the menu so its not apart of the main application - this is not part of any modern user interface style.<br><br>\n",
    "`root.option_add('*tearOff', FALSE)`\n",
    "NOTE: this seems to not do anythin instead when making the menu_file there is a parameter for `tearoff = False`"
   ]
  },
  {
   "cell_type": "markdown",
   "metadata": {},
   "source": [
    "<h3>Creating a Menubar and adding Menus</h3>"
   ]
  },
  {
   "cell_type": "code",
   "execution_count": 16,
   "metadata": {},
   "outputs": [],
   "source": [
    "from tkinter import *\n",
    "from tkinter import ttk\n",
    "\n",
    "root = Tk()\n",
    "menubar = Menu(root)\n",
    "root.configure(menu=menubar)\n",
    "\n",
    "menu_file = Menu(menubar, tearoff=False)\n",
    "menu_edit = Menu(menubar, tearoff=False)\n",
    "menubar.add_cascade(menu=menu_file, label='File')\n",
    "menubar.add_cascade(menu=menu_edit, label='Edit')\n",
    "\n",
    "root.mainloop()"
   ]
  },
  {
   "cell_type": "markdown",
   "metadata": {},
   "source": [
    "<h3>Adding Menu items</h3>"
   ]
  },
  {
   "cell_type": "markdown",
   "metadata": {},
   "source": [
    "each type of menu item has a different set of available options:<br>\n",
    "Cascade menu items have a `menu` option use to specify the sub-menu.<br>\n",
    "command menu items have a `command` option to specify the command to invoke when the item is chosen.<br>\n",
    "Both have a `label` option to specify the text to display for the item."
   ]
  },
  {
   "cell_type": "code",
   "execution_count": 17,
   "metadata": {},
   "outputs": [
    {
     "name": "stdout",
     "output_type": "stream",
     "text": [
      "new file selected\n"
     ]
    }
   ],
   "source": [
    "from tkinter import *\n",
    "from tkinter import ttk\n",
    "\n",
    "def newFile():\n",
    "    print('new file selected')\n",
    "\n",
    "def openFile():\n",
    "    print('open file selected')\n",
    "\n",
    "def closeFile():\n",
    "    print('close file selected')\n",
    "\n",
    "root = Tk()\n",
    "menubar = Menu(root)\n",
    "root['menu'] = menubar\n",
    "\n",
    "menu_file = Menu(menubar, tearoff=False)\n",
    "menu_edit = Menu(menubar, tearoff=False)\n",
    "menubar.add_cascade(menu=menu_file, label='File')\n",
    "menubar.add_cascade(menu=menu_edit, label='Edit')\n",
    "\n",
    "menu_file.add_command(label=\"New\", command=newFile)\n",
    "menu_file.add_command(label=\"Open...\", command=openFile)\n",
    "menu_file.add_command(label=\"Close\", command=closeFile)\n",
    "\n",
    "root.mainloop()"
   ]
  },
  {
   "cell_type": "markdown",
   "metadata": {},
   "source": [
    "<h3>Submenus</h3>"
   ]
  },
  {
   "cell_type": "markdown",
   "metadata": {},
   "source": [
    "We have already seen cascse menu items to add a menu to a menubar. If you want to add a submenu to an existing menu you also use a `cascade` menu item exactly the same way."
   ]
  },
  {
   "cell_type": "markdown",
   "metadata": {},
   "source": [
    "You can also add a Separator using menu_file.add_separator()"
   ]
  },
  {
   "cell_type": "code",
   "execution_count": 23,
   "metadata": {},
   "outputs": [
    {
     "name": "stdout",
     "output_type": "stream",
     "text": [
      "close file selected\n"
     ]
    }
   ],
   "source": [
    "from tkinter import *\n",
    "from tkinter import ttk\n",
    "import os\n",
    "\n",
    "recent_files = ['c:/desktop/env_trading/coinbase', 'c:/desktop/python']\n",
    "\n",
    "def newFile():\n",
    "    print('new file selected')\n",
    "\n",
    "def openFile(file=None):\n",
    "    print(f\"opening {file}\")\n",
    "\n",
    "def closeFile():\n",
    "    print('close file selected')\n",
    "\n",
    "root = Tk()\n",
    "menubar = Menu(root)\n",
    "root['menu'] = menubar\n",
    "\n",
    "menu_file = Menu(menubar, tearoff=False)\n",
    "menu_edit = Menu(menubar, tearoff=False)\n",
    "menubar.add_cascade(menu=menu_file, label='File')\n",
    "menubar.add_cascade(menu=menu_edit, label='Edit')\n",
    "\n",
    "menu_recent = Menu(menu_file, tearoff=False)\n",
    "menu_file.add_cascade(menu=menu_recent, label='Open Recent')\n",
    "for f in recent_files:\n",
    "    menu_recent.add_command(label=f, command= lambda f=f: openFile(f))\n",
    "\n",
    "menu_file.add_command(label=\"New\", command=newFile)\n",
    "menu_file.add_command(label=\"Open...\", command=openFile)\n",
    "menu_file.add_separator()\n",
    "menu_file.add_command(label=\"Close\", command=closeFile)\n",
    "\n",
    "root.mainloop()"
   ]
  },
  {
   "cell_type": "markdown",
   "metadata": {},
   "source": [
    "<h3>Checkbutton and Radiobutton Items</h3>"
   ]
  },
  {
   "cell_type": "markdown",
   "metadata": {},
   "source": [
    "Finally, there are also `checkbutton` and `radiobutton` menu items. These havea `variable` associated with them and depending on its value then either a checkmark or radiobutton will be shown next to its label."
   ]
  },
  {
   "cell_type": "code",
   "execution_count": null,
   "metadata": {},
   "outputs": [],
   "source": [
    "from tkinter import *\n",
    "from tkinter import ttk\n",
    "import os\n",
    "\n",
    "recent_files = ['c:/desktop/env_trading/coinbase', 'c:/desktop/python']\n",
    "\n",
    "def newFile():\n",
    "    print('new file selected')\n",
    "\n",
    "def openFile(file=None):\n",
    "    print(f\"opening {file}\")\n",
    "\n",
    "def closeFile():\n",
    "    print('close file selected')\n",
    "\n",
    "root = Tk()\n",
    "menubar = Menu(root)\n",
    "root['menu'] = menubar\n",
    "\n",
    "check = StringVar()\n",
    "radio = StringVar()\n",
    "\n",
    "menu_file = Menu(menubar, tearoff=False)\n",
    "menu_edit = Menu(menubar, tearoff=False)\n",
    "menubar.add_cascade(menu=menu_file, label='File')\n",
    "menubar.add_cascade(menu=menu_edit, label='Edit')\n",
    "\n",
    "menu_recent = Menu(menu_file, tearoff=False)\n",
    "menu_file.add_cascade(menu=menu_recent, label='Open Recent')\n",
    "for f in recent_files:\n",
    "    menu_recent.add_command(label=f, command= lambda f=f: openFile(f))\n",
    "\n",
    "menu_file.add_command(label=\"New\", command=newFile)\n",
    "menu_file.add_command(label=\"Open...\", command=openFile)\n",
    "menu_file.add_command(label=\"Close\", command=closeFile)\n",
    "menu_file.add_separator()\n",
    "menu_file.add_checkbutton(label='Check', variable=check, onvalue=1, offvalue=0)# also has a command\n",
    "menu_file.add_separator()\n",
    "menu_file.add_radiobutton(label='One', variable=radio, value=1)# also has a command\n",
    "menu_file.add_radiobutton(label='Two', variable=radio, value=2)# also has a command\n",
    "\n",
    "root.mainloop()"
   ]
  },
  {
   "cell_type": "markdown",
   "metadata": {},
   "source": [
    "<h3>Manipulating Menu items</h3>"
   ]
  },
  {
   "cell_type": "markdown",
   "metadata": {},
   "source": [
    "You can `insert` a menu item using its index.<br>\n",
    "You can `delete` a menu item using its index</br>\n",
    "`menu_recent.delete(0, 'end')`<br><br>\n",
    "you can also look or change the value of an items options via <i>index</i>\n",
    "`print(menu_file.entrycget(0, 'label'))`- get label of the top entry in the menu<br>\n",
    "`print(menu_file.entryconfigure(0))` - show all options for an item <br><br>\n",
    "You can also disable a menu item<br>\n",
    "`menu_file.entryconfigure('Close', state='disabled')`<br><br>\n",
    "You can change the names for instance if you have show bookmarks and when it is pressed you want to change it to hide bookmarks<br>\n",
    "`menu_bookmarks.entryconfigure(3, label='Hide Bookmarks')`"
   ]
  },
  {
   "cell_type": "markdown",
   "metadata": {},
   "source": [
    "<i>As your program grows complex, it's easy to miss enabling or disabling some items. One strategy is to centralize all the menu state changes in one routine. Whenever there is a state change in your application, it should call this routine. It should examine the current state and update menus accordingly. The same code can also handle toolbars, status bars, or other user interface components.</i>"
   ]
  },
  {
   "cell_type": "markdown",
   "metadata": {},
   "source": [
    "<h3>Accelerator keys</h3>"
   ]
  },
  {
   "cell_type": "markdown",
   "metadata": {},
   "source": [
    "Accelerators are very platform-specific they are used to indicate a keyboard equivalent that corresponse to a menu item.<br>\n",
    "`m_edit.entryconfigure('Paste', accelerator='Control+V)`"
   ]
  },
  {
   "cell_type": "markdown",
   "metadata": {},
   "source": [
    "<h3>Underline</h3>"
   ]
  },
  {
   "cell_type": "markdown",
   "metadata": {},
   "source": [
    "You can use other keys to jump to a particual menus or menu items, The keys that trigger these jumps are indicated by an underlined letter in the menu items's label. \n",
    "`m.add_command(label='Path Browser', underline=5)# underline \"B\"`"
   ]
  },
  {
   "cell_type": "markdown",
   "metadata": {},
   "source": [
    "<h3>Images</h3>"
   ]
  },
  {
   "cell_type": "markdown",
   "metadata": {},
   "source": [
    "to use an image you can use the `image` and `compound` options, which work just like in label widgets. The value for `image` must be a Tk image object, while `compound` can have the values `bottom`, `center`, `right`, `top` or `none`."
   ]
  },
  {
   "cell_type": "markdown",
   "metadata": {},
   "source": [
    "<h2>Menu Virtual Events</h2>"
   ]
  },
  {
   "cell_type": "markdown",
   "metadata": {},
   "source": [
    "most applications havea n \"edit\" menu with the menu items \"copy\" \"paste\" etc. how do we make these act appropriatly, Tk handles this with virtual events.<br>\n",
    "We will add two items to \"Edit\" menu, the standard \"Paste\" and the \"Find\" that will open a dialog to find or search for something."
   ]
  },
  {
   "cell_type": "code",
   "execution_count": 2,
   "metadata": {},
   "outputs": [],
   "source": [
    "from tkinter import *\n",
    "from tkinter import ttk, messagebox\n",
    "\n",
    "root = Tk()\n",
    "ttk.Entry(root).grid()\n",
    "m = Menu(root)\n",
    "m_edit = Menu(m, tearoff=False)\n",
    "m.add_cascade(menu=m_edit, label=\"Edit\")\n",
    "m_edit.add_command(label=\"Paste\", command=lambda: root.focus_get().event_generate(\"<<Paste>>\"))\n",
    "m_edit.add_command(label=\"Find...\", command=lambda: root.event_generate(\"<<OpenFindDialog>>\"))\n",
    "root['menu'] = m\n",
    "\n",
    "def launchFindDialog(*args):\n",
    "    messagebox.showinfo(message=\"I hope you find what you're looking for!\")\n",
    "\n",
    "root.bind(\"<<OpenFindDialog>>\", launchFindDialog)\n",
    "root.mainloop()"
   ]
  },
  {
   "cell_type": "markdown",
   "metadata": {},
   "source": [
    "Tk predefines the following virtual events: `<<Clear>>`, `<<Copy>>`, `<<Cut>>`, `<<Paste>>`, `<<PasteSelection>>`, `<<PrevWindow>>`, `<<Redo>>`, and `<<Undo>>`. For additional information, see the [event](https://tcl.tk/man/tcl8.6/TkCmd/event.htm) command reference."
   ]
  },
  {
   "cell_type": "markdown",
   "metadata": {},
   "source": [
    "<h2>Platform Menus</h2>"
   ]
  },
  {
   "cell_type": "markdown",
   "metadata": {},
   "source": [
    "<h3>Windows</h3>"
   ]
  },
  {
   "cell_type": "markdown",
   "metadata": {},
   "source": [
    "each window has a \"System\" menu at the top left of the window frame that has \"Close\", and \"Minimize\""
   ]
  },
  {
   "cell_type": "markdown",
   "metadata": {},
   "source": [
    "`sysmenu = Menu(menubar, name='system')`\n",
    "`menubar.add_cascade(menu=sysmenu)`"
   ]
  },
  {
   "cell_type": "markdown",
   "metadata": {},
   "source": [
    "<h2>Contextual Menus</h2>"
   ]
  },
  {
   "cell_type": "markdown",
   "metadata": {},
   "source": [
    "Contextual meneus (\"popup\" menus) are typically invoked by a right mouse button click on an object in the application.<br><br>\n",
    "We'll use the same commands we used to create menurs in the menubar.<br>\n",
    "We'll have to create an event binding to capture that click which is different for windows and mac<br>\n",
    "We also need to capture the mouse's location. We need to do thuis relative to the entire screen (global coordinates)<br>\n",
    "The last step is telling the menu to pop up at the particular location via the `post` method"
   ]
  },
  {
   "cell_type": "code",
   "execution_count": 1,
   "metadata": {},
   "outputs": [],
   "source": [
    "from tkinter import *\n",
    "from tkinter import ttk\n",
    "\n",
    "root = Tk()\n",
    "menu = Menu(root, tearoff=False)\n",
    "for i in ('One', 'Two', 'Three'):\n",
    "    menu.add_command(label=i)\n",
    "if (root.tk.call('tk', 'windowingsystem')=='aqua'):\n",
    "    root.bind('<2>', lambda e: menu.post(e.x_root, e.y_root))\n",
    "    root.bind('<Control-1>', lambda e: menu.post(e.x_root, e.y_root))\n",
    "else:\n",
    "    root.bind('<3>', lambda e: menu.post(e.x_root, e.y_root))\n",
    "root.mainloop()"
   ]
  }
 ],
 "metadata": {
  "kernelspec": {
   "display_name": "venv",
   "language": "python",
   "name": "python3"
  },
  "language_info": {
   "codemirror_mode": {
    "name": "ipython",
    "version": 3
   },
   "file_extension": ".py",
   "mimetype": "text/x-python",
   "name": "python",
   "nbconvert_exporter": "python",
   "pygments_lexer": "ipython3",
   "version": "3.10.11"
  }
 },
 "nbformat": 4,
 "nbformat_minor": 2
}
