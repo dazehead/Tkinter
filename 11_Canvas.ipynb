{
 "cells": [
  {
   "cell_type": "markdown",
   "metadata": {},
   "source": [
    "<h1>Canvas</h1>"
   ]
  },
  {
   "cell_type": "markdown",
   "metadata": {},
   "source": [
    "- [Creating Items](#items)\n",
    "- [Event Bindings](#bindings)\n",
    "- [Tags](#tags)\n",
    "- [Scrolling](#scrolling)"
   ]
  },
  {
   "cell_type": "markdown",
   "metadata": {},
   "source": [
    "<b>canvas</b> is a graphical object for lines, circles, text, images, other widgets and more. includes drawing diagramming, CAD tools, displaying or monitoring simoulations or actual equiptment.<br>\n",
    "You'll often provide and width and height. you can also ask the gemoetry manager to expand it to fill available space.<br>\n",
    "They also support appearance options like relief and vorderwidth."
   ]
  },
  {
   "cell_type": "markdown",
   "metadata": {},
   "source": [
    "Canvas offer tremendous number of features for more information check out [canvas reference manual](https://tcl.tk/man/tcl8.6/TkCmd/canvas.htm)"
   ]
  },
  {
   "cell_type": "code",
   "execution_count": null,
   "metadata": {},
   "outputs": [],
   "source": [
    "from tkinter import *\n",
    "root = Tk()\n",
    "\n",
    "canvas = Canvas(root, width=500, height=400, background='gray75')\n",
    "canvas.grid()\n",
    "\n",
    "root.mainloop()"
   ]
  },
  {
   "cell_type": "markdown",
   "metadata": {},
   "source": [
    "<a id=items></a>\n",
    "<h2>Creating Items</h2>"
   ]
  },
  {
   "cell_type": "markdown",
   "metadata": {},
   "source": [
    "we'll start by drawing a line, coordinates are expressed as the nunmber of pixels away from tht top-left corner, horizontally and vertically (x,y) the top left is (0,0) the x value increases as you mvoe the the right, and the y value increases as you move down. this is refered to as (x0,x0) and (y1,y1)"
   ]
  },
  {
   "cell_type": "code",
   "execution_count": 16,
   "metadata": {},
   "outputs": [],
   "source": [
    "from tkinter import *\n",
    "root = Tk()\n",
    "\n",
    "canvas = Canvas(root, width=500, height=400, background='gray75')\n",
    "canvas.create_line(10, 5, 200, 50)\n",
    "canvas.grid()\n",
    "\n",
    "root.mainloop()"
   ]
  },
  {
   "cell_type": "markdown",
   "metadata": {},
   "source": [
    "the `create_line()` returns an item id(an integer) that uniquely refers to this item, normally you can ignore this but we can reference to it later."
   ]
  },
  {
   "cell_type": "markdown",
   "metadata": {},
   "source": [
    "<h3>A Simple Sketchpad</h3>"
   ]
  },
  {
   "cell_type": "markdown",
   "metadata": {},
   "source": [
    "we create a canvas widget and attach an event binding to caputre mouse clics and drags. when the mouse is first pressed, we'll remember that location as the \"start\" of our next line. as the mouse is moved with the ouse button held down, we create a line item from this \"start\" position to the current mouse location. This current location becomes the \"start\" position for the next line itme. every mouse drag craetes a new line item:"
   ]
  },
  {
   "cell_type": "code",
   "execution_count": 9,
   "metadata": {},
   "outputs": [],
   "source": [
    "from tkinter import *\n",
    "from tkinter import ttk\n",
    "\n",
    "class Sketchpad(Canvas):\n",
    "    def __init__(self, parent):\n",
    "        super().__init__(parent)\n",
    "        self.bind(\"<Button-1>\", self.save_posn)\n",
    "        self.bind(\"<B1-Motion>\", self.add_line)\n",
    "\n",
    "    def save_posn(self, event):\n",
    "        self.lastx, self.lasty = event.x, event.y\n",
    "\n",
    "    def add_line(self, event):\n",
    "        self.create_line((self.lastx, self.lasty, event.x, event.y))\n",
    "        self.save_posn(event)\n",
    "\n",
    "root = Tk()\n",
    "root.columnconfigure(0, weight=1)\n",
    "root.rowconfigure(0, weight=1)\n",
    "\n",
    "sketch = Sketchpad(root)\n",
    "sketch.grid(column=0, row=0, sticky=(N,W,E,S))\n",
    "\n",
    "root.mainloop()"
   ]
  },
  {
   "cell_type": "markdown",
   "metadata": {},
   "source": [
    "<h3>Item Attributes</h3>"
   ]
  },
  {
   "cell_type": "markdown",
   "metadata": {},
   "source": [
    "When creating items we can also specify <i>attributes</i><br>\n",
    "The exact set of attributes will vary accordin gto the type of item. Some commonly used ones are:<br>\n",
    "`fill`\n",
    "color to draw the object<br>\n",
    "`width`\n",
    "line width of the item (or its outline)<br>\n",
    "`outline`\n",
    "for filled shapes like rectangles, the color to draw the item's outline<br>\n",
    "`dash`\n",
    "draw a dashed line instead of a solid one, e.g., 2 4 6 4 alternates short (2 pixels) and long (6 pixels) dashes with 4 pixels between<br>\n",
    "`stipple`\n",
    "instead of a solid fill color, use a pattern, typically gray75, gray50, gray25, or gray12; stippling is currently not supported on macOS<br>\n",
    "`state`\n",
    "assign a state of normal (default), disabled (item event bindings are ignored), or hidden (removed from display)<br>\n",
    "`disabledfill`, `disabledwidth`, ...\n",
    "if the item's state is set to disabled, the item will display using these variants of the usual attributes<br>\n",
    "`activefill`, `activewidth`, ...\n",
    "when the mouse pointer is over the item, it will display using these variants of the usual attributes\n"
   ]
  },
  {
   "cell_type": "markdown",
   "metadata": {},
   "source": [
    "Just like with Tk widgets, you can change the attributes of canvas items after they're created.<br>\n",
    "run first then uncomment line to see we can change after the line"
   ]
  },
  {
   "cell_type": "code",
   "execution_count": 15,
   "metadata": {},
   "outputs": [
    {
     "name": "stdout",
     "output_type": "stream",
     "text": [
      "1\n"
     ]
    }
   ],
   "source": [
    "from tkinter import *\n",
    "from tkinter import ttk\n",
    "\n",
    "class Sketchpad(Canvas):\n",
    "    def __init__(self, parent):\n",
    "        super().__init__(parent)\n",
    "        self.bind(\"<Button-1>\", self.save_posn)\n",
    "        self.bind(\"<B1-Motion>\", self.add_line)\n",
    "        \n",
    "        # we dont have to assign it to anythin unless we plan on editing it after\n",
    "        id = self.create_line(10, 10, 200, 50, fill='red', width=3) # here we change attributes\n",
    "        print(id) # we can use this id to change it later\n",
    "        #self.itemconfig(id, fill='blue', width=2)\n",
    "\n",
    "    def save_posn(self, event):\n",
    "        self.lastx, self.lasty = event.x, event.y\n",
    "\n",
    "    def add_line(self, event):\n",
    "        self.create_line((self.lastx, self.lasty, event.x, event.y))\n",
    "        self.save_posn(event)\n",
    "\n",
    "root = Tk()\n",
    "root.columnconfigure(0, weight=1)\n",
    "root.rowconfigure(0, weight=1)\n",
    "\n",
    "sketch = Sketchpad(root)\n",
    "sketch.grid(column=0, row=0, sticky=(N,W,E,S))\n",
    "\n",
    "root.mainloop()\n"
   ]
  },
  {
   "cell_type": "markdown",
   "metadata": {},
   "source": [
    "<h3>Item Types</h3>"
   ]
  },
  {
   "cell_type": "markdown",
   "metadata": {},
   "source": [
    "lines items can also consist of multiple segments.<br><br>\n",
    "Lines have several interesting additional attributes, allowing for drawing curves, arrows, and more.\n",
    "\n",
    "`arrow`\n",
    "place an arrowhead at the start (first), end (last), or both ends (both); default is none<br>\n",
    "`arrowshape`\n",
    "allows changing the appearance of any arrowheads<br>\n",
    "`capstyle`\n",
    "for wide lines without arrowheads, this controls how the end of lines are drawn; one of butt (default), projecting, or round<br>\n",
    "`joinstyle`\n",
    "for wide lines with multiple segments, this controls drawings of each vertex; one of round (default), bevel, or miter<br>\n",
    "`smooth`\n",
    "if specified as true (or bezier), draws a smooth curve (via quadratic splines) between multiple segments rather than using straight lines; raw specifies a different type of curve (cubic splines)<br>\n",
    "`splinesteps`\n",
    "controls the smoothness of curved lines, i.e., those with the smooth option set"
   ]
  },
  {
   "cell_type": "code",
   "execution_count": 17,
   "metadata": {},
   "outputs": [],
   "source": [
    "from tkinter import *\n",
    "from tkinter import ttk\n",
    "\n",
    "root = Tk()\n",
    "canvas = Canvas(root)\n",
    "\n",
    "canvas.create_line(10,10,200,50,90,150,50,80)\n",
    "canvas.grid()\n",
    "\n",
    "root.mainloop()\n"
   ]
  },
  {
   "cell_type": "markdown",
   "metadata": {},
   "source": [
    "<h4>rectangle</h4>"
   ]
  },
  {
   "cell_type": "code",
   "execution_count": 18,
   "metadata": {},
   "outputs": [],
   "source": [
    "from tkinter import *\n",
    "from tkinter import ttk\n",
    "\n",
    "root = Tk()\n",
    "canvas = Canvas(root)\n",
    "\n",
    "canvas.create_rectangle(10, 10, 200, 50, fill='red', outline='blue')\n",
    "canvas.grid()\n",
    "\n",
    "root.mainloop()"
   ]
  },
  {
   "cell_type": "markdown",
   "metadata": {},
   "source": [
    "<h4>Oval</h4>"
   ]
  },
  {
   "cell_type": "code",
   "execution_count": 19,
   "metadata": {},
   "outputs": [],
   "source": [
    "from tkinter import *\n",
    "from tkinter import ttk\n",
    "\n",
    "root = Tk()\n",
    "canvas = Canvas(root)\n",
    "\n",
    "canvas.create_oval(10, 10, 200, 150, fill='red', outline='blue')\n",
    "canvas.grid()\n",
    "\n",
    "root.mainloop()"
   ]
  },
  {
   "cell_type": "markdown",
   "metadata": {},
   "source": [
    "<h3>Polygon</h3>"
   ]
  },
  {
   "cell_type": "markdown",
   "metadata": {},
   "source": [
    "polygons alos support `joinsytle`, `smooth`, `splinesteps` attributes of line items."
   ]
  },
  {
   "cell_type": "code",
   "execution_count": 22,
   "metadata": {},
   "outputs": [],
   "source": [
    "from tkinter import *\n",
    "from tkinter import ttk\n",
    "\n",
    "root = Tk()\n",
    "canvas = Canvas(root)\n",
    "\n",
    "canvas.create_polygon(10,10,200,50,90,150,50,80,120,55, fill='red', outline='blue')\n",
    "canvas.grid()\n",
    "\n",
    "root.mainloop()"
   ]
  },
  {
   "cell_type": "markdown",
   "metadata": {},
   "source": [
    "<h3>Arc</h3>"
   ]
  },
  {
   "cell_type": "markdown",
   "metadata": {},
   "source": [
    "Arc items draw a portion of an oval<br>\n",
    "- `start`: how far along the oval the arc should start, in degrees (0 is the 3-o'clock position)\n",
    "- The `extent`: how many degrees \"wide\" the arc should be, positive for counter-clockwise from the start, negative for clockwise\n",
    "- `style`: one of pieslice (the default), arc (draws just the outer perimeter), or chord (draws the area between a line connecting the start and end points of the arc and the outer perimeter)."
   ]
  },
  {
   "cell_type": "code",
   "execution_count": 23,
   "metadata": {},
   "outputs": [],
   "source": [
    "from tkinter import *\n",
    "from tkinter import ttk\n",
    "\n",
    "root = Tk()\n",
    "canvas = Canvas(root)\n",
    "\n",
    "canvas.create_arc(10,10,200,150,\n",
    "                  fill='yellow', \n",
    "                  outline='black', \n",
    "                  start=45,\n",
    "                  extent=135,\n",
    "                  width=5)\n",
    "canvas.grid()\n",
    "\n",
    "root.mainloop()"
   ]
  },
  {
   "cell_type": "markdown",
   "metadata": {},
   "source": [
    "<h3>Image</h3>"
   ]
  },
  {
   "cell_type": "markdown",
   "metadata": {},
   "source": [
    "Image items can display arbitrary images. By default, the item is centered at the coordinates you specify, but this can be changed with the `anchor` option, e.g., `nw` means the coordinates are where to put the top-left of the image.<br>,<br>\n",
    "\n",
    "the proper way to resize the image is to create Image instance using PIL, then resize and then convert to ImageTk instance"
   ]
  },
  {
   "cell_type": "code",
   "execution_count": null,
   "metadata": {},
   "outputs": [],
   "source": [
    "from tkinter import *\n",
    "from tkinter import ttk\n",
    "from PIL import Image, ImageTk\n",
    "\n",
    "root = Tk()\n",
    "canvas = Canvas(root, width=500, height=400)\n",
    "\n",
    "myimg = Image.open('images/pecos_bill.png')\n",
    "myimg = myimg.resize((500,400))\n",
    "myimg = ImageTk.PhotoImage(myimg)\n",
    "\n",
    "canvas.create_image(10, 10, image=myimg, anchor='nw')\n",
    "canvas.grid()\n",
    "\n",
    "root.mainloop()"
   ]
  },
  {
   "cell_type": "markdown",
   "metadata": {},
   "source": [
    "<h3>Text</h3>"
   ]
  },
  {
   "cell_type": "markdown",
   "metadata": {},
   "source": [
    "Specify the text to display using the `text` attribute.<br>\n",
    "Text will have the same color specified by the `fill`<br>\n",
    "You can have multiple lines if you embed `/n` in the text.<br>\n",
    "You can do this automatically by specifying a maximum `width`.<br>\n",
    "Alignment can be specified by setting the `justify` attribute to `left`,`right`,`center`. "
   ]
  },
  {
   "cell_type": "code",
   "execution_count": 4,
   "metadata": {},
   "outputs": [],
   "source": [
    "from tkinter import *\n",
    "\n",
    "root = Tk()\n",
    "canvas = Canvas(root)\n",
    "canvas.create_text(100, \n",
    "                   100,\n",
    "                   text='A wonderful story', \n",
    "                   anchor='nw', \n",
    "                   font='TkMenuFont',\n",
    "                   fill='red')\n",
    "canvas.grid()\n",
    "\n",
    "root.mainloop()"
   ]
  },
  {
   "cell_type": "markdown",
   "metadata": {},
   "source": [
    "<h3>Widget</h3>"
   ]
  },
  {
   "cell_type": "markdown",
   "metadata": {},
   "source": [
    "You can add any widget you want to the canvas, it can even add as a geometry manager.<br>\n",
    "Canvas items that display othe rwidgets are known as <i>window</i> items. You can give them explicit `width` and `height` attributes.<br>\n",
    "Its important that the widget you're placing on the canvas(via the `window`) attribute be a child widget of the canvas."
   ]
  },
  {
   "cell_type": "code",
   "execution_count": 5,
   "metadata": {},
   "outputs": [],
   "source": [
    "from tkinter import *\n",
    "from tkinter import ttk\n",
    "\n",
    "root = Tk()\n",
    "canvas = Canvas(root)\n",
    "button = ttk.Button(canvas, text='Implode!')\n",
    "canvas.create_window(10,10, anchor='nw', window=button)\n",
    "\n",
    "canvas.grid()\n",
    "\n",
    "root.mainloop()"
   ]
  },
  {
   "cell_type": "markdown",
   "metadata": {},
   "source": [
    "<h3>Modifying Items</h3>"
   ]
  },
  {
   "cell_type": "markdown",
   "metadata": {},
   "source": [
    "To delete items, use the `delete` method.<br>\n",
    "To change an item's size and position, you can use the `coords` method.<br>\n",
    "You can use the `move` method to offset one or more items from their current position.<br><br>\n",
    "All items are order from top to bottom called stacking order. If an item later in the stacking order overlaps an item below it, the first item will be drawn on top fo the second. The `raise`(`lift` in Tkinter) and `lower` methods allow you to adjust an item's position in the stacking order."
   ]
  },
  {
   "cell_type": "markdown",
   "metadata": {},
   "source": [
    "<a id=binding></a>\n",
    "<h2>Event Bindings</h2>"
   ]
  },
  {
   "cell_type": "markdown",
   "metadata": {},
   "source": [
    "Like any other Tk widget, can capture events using the `bind` command.<br>\n",
    "You can attach binding to indivudial itmes in the canvas (or groups of them). To capture these events, you use a bind command built into the canvas. It works exactly like the regular bind command, taking an event pattern and a callback. The only difference is you specify the canvas item this binding applies to.<br>\n",
    "`canvas.tag_bind(id, '<1>', ...)`"
   ]
  },
  {
   "cell_type": "code",
   "execution_count": 8,
   "metadata": {},
   "outputs": [],
   "source": [
    "from tkinter import *\n",
    "from tkinter import ttk\n",
    "\n",
    "class Sketchpad(Canvas):\n",
    "    def __init__(self, parent):\n",
    "        super().__init__(parent)\n",
    "        self.bind(\"<Button-1>\", self.save_posn)\n",
    "        self.bind(\"<B1-Motion>\", self.add_line)\n",
    "        self.color = 'black'\n",
    "\n",
    "        id = self.create_rectangle((10,10,30,30), fill='red')\n",
    "        self.tag_bind(id, \"<Button-1>\", lambda x: self.setColor('red'))\n",
    "\n",
    "        id = self.create_rectangle((10,35,30,55), fill='blue')\n",
    "        self.tag_bind(id, \"<Button-1>\", lambda x: self.setColor('blue'))\n",
    "\n",
    "        id = self.create_rectangle((10,60,30,80), fill='black')\n",
    "        self.tag_bind(id, \"<Button-1>\", lambda x: self.setColor('black'))\n",
    "\n",
    "    def save_posn(self, event):\n",
    "        self.lastx, self.lasty = event.x, event.y\n",
    "\n",
    "    def add_line(self, event):\n",
    "        self.create_line((self.lastx, self.lasty, event.x, event.y), fill=self.color)\n",
    "        self.save_posn(event)\n",
    "        \n",
    "    def setColor(self, newcolor):\n",
    "        self.color = newcolor\n",
    "\n",
    "\n",
    "\n",
    "root = Tk()\n",
    "root.columnconfigure(0, weight=1)\n",
    "root.rowconfigure(0, weight=1)\n",
    "\n",
    "sketch = Sketchpad(root)\n",
    "sketch.grid(column=0, row=0, sticky=(N,W,E,S))\n",
    "\n",
    "root.mainloop()\n"
   ]
  },
  {
   "cell_type": "markdown",
   "metadata": {},
   "source": [
    "<h3>Tags</h3>"
   ]
  },
  {
   "cell_type": "markdown",
   "metadata": {},
   "source": [
    "every canvas items can be refered to by a unique `id` number. But another way to refer items on a canvas is to use <i>tags</i>.<br>\n",
    "a tag is an identifier of your creation, and many items can shar the same tag.<br>\n",
    "anytime you can use an item id, you can use a tag.<br>\n",
    "You can assign tags when creating an itme using the `tags` item configuration option. you can use the `addtag` method or remove them with the `dtags` method. You can get the list of tags for an item with the `gettags` method or return a list of item id numbers having the given tag with the `find` command."
   ]
  },
  {
   "cell_type": "code",
   "execution_count": 9,
   "metadata": {},
   "outputs": [
    {
     "name": "stdout",
     "output_type": "stream",
     "text": [
      "('drawing', 'rectangle', 'polygon')\n",
      "('drawing', 'rectangle')\n",
      "(1, 2)\n"
     ]
    }
   ],
   "source": [
    "from tkinter import *\n",
    "from tkinter import ttk\n",
    "\n",
    "root = Tk()\n",
    "c = Canvas(root)\n",
    "\n",
    "c.create_line(10,10,20,20, tags=('firstline', 'drawing'))\n",
    "c.create_rectangle(30,30,40,40, tags=('drawing'))\n",
    "\n",
    "c.addtag('rectangle', 'withtag', 2)\n",
    "c.addtag('polygon', 'withtag', 'rectangle')\n",
    "print(c.gettags(2))\n",
    "\n",
    "c.dtag(2,'polygon')\n",
    "print(c.gettags(2))\n",
    "\n",
    "print(c.find_withtag('drawing'))\n",
    "\n",
    "c.grid()\n",
    "root.mainloop()"
   ]
  },
  {
   "cell_type": "markdown",
   "metadata": {},
   "source": [
    "We use tags here to first to put a border around whichever item in our `color` palette is currently selected.<br>\n",
    "We also use tags to make the current stroke being drawn appear more prominent. When the mosue button is released, we'll return the line to normal."
   ]
  },
  {
   "cell_type": "code",
   "execution_count": 13,
   "metadata": {},
   "outputs": [],
   "source": [
    "from tkinter import *\n",
    "from tkinter import ttk\n",
    "\n",
    "class Sketchpad(Canvas):\n",
    "    def __init__(self, parent):\n",
    "        super().__init__(parent)\n",
    "        self.bind(\"<Button-1>\", self.save_posn)\n",
    "        self.bind(\"<B1-Motion>\", self.add_line)\n",
    "        self.bind(\"<B1-ButtonRelease>\", self.doneStroke)\n",
    "        self.color = 'black'\n",
    "\n",
    "        id = self.create_rectangle((10,10,30,30), fill='red', tags=('palette','palettered'))\n",
    "        self.tag_bind(id, \"<Button-1>\", lambda x: self.setColor('red'))\n",
    "\n",
    "        id = self.create_rectangle((10,35,30,55), fill='blue', tags=('palette', 'paletteblue'))\n",
    "        self.tag_bind(id, \"<Button-1>\", lambda x: self.setColor('blue'))\n",
    "\n",
    "        id = self.create_rectangle((10,60,30,80), fill='black', tags=('palette', 'paletteblack', 'paletteSelected'))\n",
    "        self.tag_bind(id, \"<Button-1>\", lambda x: self.setColor('black'))\n",
    "\n",
    "        self.itemconfigure('palette', width=5)\n",
    "\n",
    "    def save_posn(self, event):\n",
    "        self.lastx, self.lasty = event.x, event.y\n",
    "\n",
    "    def add_line(self, event):\n",
    "        self.create_line((self.lastx, self.lasty, event.x, event.y), fill=self.color)\n",
    "        self.save_posn(event)\n",
    "    \n",
    "    def doneStroke(self, event):\n",
    "        self.itemconfigure('currentline', width=1)\n",
    "        \n",
    "    def setColor(self, newcolor):\n",
    "        self.color = newcolor\n",
    "        self.dtag('all', 'paletteSelected')\n",
    "        self.itemconfigure('palette', outline='white')\n",
    "        self.addtag('paletteSelected', 'withtag', 'palette%s' % self.color)\n",
    "        self.itemconfigure('paletteSelected', outline='#999999')\n",
    "\n",
    "root = Tk()\n",
    "root.columnconfigure(0, weight=1)\n",
    "root.rowconfigure(0, weight=1)\n",
    "\n",
    "sketch = Sketchpad(root)\n",
    "sketch.grid(column=0, row=0, sticky=(N,W,E,S))\n",
    "\n",
    "root.mainloop()"
   ]
  },
  {
   "cell_type": "markdown",
   "metadata": {},
   "source": [
    "<h3>Scrolling</h3>"
   ]
  },
  {
   "cell_type": "markdown",
   "metadata": {},
   "source": [
    "You can attach horizontal and vertical scrollbasr to the canvas in the usual way via the `xview` and `yview` methods.<br>\n",
    "The `width` and `height` configuration options control how much space the canvas widget requests from the geometry manager.<br>\n",
    "The `scrollregion` configuration option tells Tk how large the canvas surface is by specifying its left, top, right, and bottom coordinates, e.g. 0 0 1000 1000.<br><br>\n",
    "You'll notice that if you scroll and draw it draws the line above wehre the mouse is pointing, whats going on is the bind command diesn't know that the canvas is scrolled(it doesn't know the details of any particlar widgets) The `canvasx` and `canvasy` methods translate the position onscreen into actual point on the canvas (taking into account scrolling)<br>\n",
    "We dont want the palette to be scrolled away when the canvas is scrolled and we will go over that later."
   ]
  },
  {
   "cell_type": "code",
   "execution_count": 1,
   "metadata": {},
   "outputs": [],
   "source": [
    "from tkinter import *\n",
    "from tkinter import ttk\n",
    "\n",
    "class Sketchpad(Canvas):\n",
    "    def __init__(self, parent):\n",
    "        super().__init__(parent)   \n",
    "        self.h = ttk.Scrollbar(root, orient='horizontal')\n",
    "        self.v = ttk.Scrollbar(root, orient='vertical')\n",
    "        self.configure(scrollregion=(0,0,1000,1000), yscrollcommand=self.v.set, xscrollcommand=self.h.set)\n",
    "        self.h['command'] = self.xview\n",
    "        self.v['command'] = self.yview\n",
    "\n",
    "        self.bind(\"<Button-1>\", self.save_posn)\n",
    "        self.bind(\"<B1-Motion>\", self.add_line)\n",
    "        self.bind(\"<B1-ButtonRelease>\", self.doneStroke)\n",
    "        self.color = 'black'\n",
    "\n",
    "        id = self.create_rectangle((10,10,30,30), fill='red', tags=('palette','palettered'))\n",
    "        self.tag_bind(id, \"<Button-1>\", lambda x: self.setColor('red'))\n",
    "\n",
    "        id = self.create_rectangle((10,35,30,55), fill='blue', tags=('palette', 'paletteblue'))\n",
    "        self.tag_bind(id, \"<Button-1>\", lambda x: self.setColor('blue'))\n",
    "\n",
    "        id = self.create_rectangle((10,60,30,80), fill='black', tags=('palette', 'paletteblack', 'paletteSelected'))\n",
    "        self.tag_bind(id, \"<Button-1>\", lambda x: self.setColor('black'))\n",
    "\n",
    "        self.itemconfigure('palette', width=5)\n",
    "\n",
    "    def save_posn(self, event):\n",
    "        self.lastx, self.lasty = event.x, event.y\n",
    "\n",
    "    def add_line(self, event):\n",
    "        self.create_line((self.lastx, self.lasty, event.x, event.y), fill=self.color)\n",
    "        self.save_posn(event)\n",
    "    \n",
    "    def doneStroke(self, event):\n",
    "        self.itemconfigure('currentline', width=1)\n",
    "        \n",
    "    def setColor(self, newcolor):\n",
    "        self.color = newcolor\n",
    "        self.dtag('all', 'paletteSelected')\n",
    "        self.itemconfigure('palette', outline='white')\n",
    "        self.addtag('paletteSelected', 'withtag', 'palette%s' % self.color)\n",
    "        self.itemconfigure('paletteSelected', outline='#999999')\n",
    "\n",
    "root = Tk()\n",
    "root.columnconfigure(0, weight=1)\n",
    "root.rowconfigure(0, weight=1)\n",
    "\n",
    "sketch = Sketchpad(root)\n",
    "sketch.grid(column=0, row=0, sticky=(N,W,E,S))\n",
    "sketch.h.grid(column=0, row=0, sticky=(W,E))\n",
    "sketch.v.grid(column=1, row=0, sticky=(N,S))\n",
    "\n",
    "root.grid_columnconfigure(0, weight=1)\n",
    "root.grid_rowconfigure(0, weight=1)\n",
    "\n",
    "root.mainloop()"
   ]
  }
 ],
 "metadata": {
  "kernelspec": {
   "display_name": "venv",
   "language": "python",
   "name": "python3"
  },
  "language_info": {
   "codemirror_mode": {
    "name": "ipython",
    "version": 3
   },
   "file_extension": ".py",
   "mimetype": "text/x-python",
   "name": "python",
   "nbconvert_exporter": "python",
   "pygments_lexer": "ipython3",
   "version": "3.10.11"
  }
 },
 "nbformat": 4,
 "nbformat_minor": 2
}
