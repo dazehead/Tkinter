{
 "cells": [
  {
   "cell_type": "markdown",
   "metadata": {},
   "source": [
    "<h1>Organizing Complex Interfaces</h1>"
   ]
  },
  {
   "cell_type": "markdown",
   "metadata": {},
   "source": [
    "We can use multiple windows to simplify the user interface<br><br>\n",
    "We can also take advantage of whitespace in the grid by grouping similar things together."
   ]
  },
  {
   "cell_type": "markdown",
   "metadata": {},
   "source": [
    "<h3>Seperator</h3>"
   ]
  },
  {
   "cell_type": "markdown",
   "metadata": {},
   "source": [
    "[Seperator reference](https://tcl.tk/man/tcl8.6/TkCmd/ttk_separator.htm)"
   ]
  },
  {
   "cell_type": "markdown",
   "metadata": {},
   "source": [
    "another aproach is to place a thin horizontal or vertical rule between groups of widgets"
   ]
  },
  {
   "cell_type": "code",
   "execution_count": 3,
   "metadata": {},
   "outputs": [],
   "source": [
    "from tkinter import *\n",
    "from tkinter import ttk\n",
    "\n",
    "root = Tk()\n",
    "frame = ttk.Frame(root)\n",
    "label1 = ttk.Label(frame, text='First group')\n",
    "label2 = ttk.Label(frame, text='Second group')\n",
    "sep = ttk.Separator(frame, orient='horizontal')\n",
    "\n",
    "frame.grid(column=0, row=0, sticky=(N,W,E,S))\n",
    "label1.grid(column=0, row=0, sticky=(S))\n",
    "sep.grid(column=0, row=1, sticky=(E,W))\n",
    "label2.grid(column=0, row=2, sticky=(N))\n",
    "\n",
    "root.mainloop()"
   ]
  },
  {
   "cell_type": "markdown",
   "metadata": {},
   "source": [
    "<h2>Label Frames</h2>\n"
   ]
  },
  {
   "cell_type": "markdown",
   "metadata": {},
   "source": [
    "[labelframe reference](https://tcl.tk/man/tcl8.6/TkCmd/ttk_labelframe.htm)"
   ]
  },
  {
   "cell_type": "markdown",
   "metadata": {},
   "source": [
    "a labelframe widget, also known as a group box, provides another wy to group related components.  it acts like a normal `ttk.Frame()`, but it is visually set off from the rest of theuser interface"
   ]
  },
  {
   "cell_type": "code",
   "execution_count": 9,
   "metadata": {},
   "outputs": [],
   "source": [
    "from tkinter import *\n",
    "from tkinter import ttk\n",
    "\n",
    "root = Tk()\n",
    "lf = ttk.Labelframe(root, text='Nuclear Plant')\n",
    "l = ttk.Frame(root)\n",
    "\n",
    "info = ttk.Label(lf, text='Im inside the Nuclear Plant')\n",
    "info1 = ttk.Label(l, text='Im outside...')\n",
    "\n",
    "lf.grid()\n",
    "l.grid()\n",
    "info.grid()\n",
    "info1.grid()\n",
    "\n",
    "root.mainloop()"
   ]
  },
  {
   "cell_type": "markdown",
   "metadata": {},
   "source": [
    "<h3>Paned Windows</h3>"
   ]
  },
  {
   "cell_type": "markdown",
   "metadata": {},
   "source": [
    "[panedwindow reference](https://tcl.tk/man/tcl8.6/TkCmd/ttk_panedwindow.htm)"
   ]
  },
  {
   "cell_type": "markdown",
   "metadata": {},
   "source": [
    "a <b>panedwindow</b>widget lets you stack to or more resizable widgets above or below each other (or to the left and right).<br>\n",
    "Typically the widgets you're adding to the panedwindow will be frames containing many other widgets."
   ]
  },
  {
   "cell_type": "code",
   "execution_count": 12,
   "metadata": {},
   "outputs": [],
   "source": [
    "from tkinter import *\n",
    "from tkinter import ttk\n",
    "\n",
    "root = Tk()\n",
    "\n",
    "p = ttk.Panedwindow(root, orient='vertical')\n",
    "# two panes each of which would get widgets gridded into it:\n",
    "f1 = ttk.Labelframe(p, text='Pane 1', width=100, height=100)\n",
    "f2 = ttk.Labelframe(p, text='Pane 2', width=100, height=100)\n",
    "\n",
    "p.add(f1)\n",
    "p.add(f2)\n",
    "p.grid()\n",
    "\n",
    "root.mainloop()"
   ]
  },
  {
   "cell_type": "markdown",
   "metadata": {},
   "source": [
    "calling the `add` method adds a new pane at the end of the list of panes.<br>\n",
    "The `insert position subwindow` method allows you to place the panbe at the given position in the list of panes (0...n-1)<br>\n",
    "you can also use the `forget subwindow` to remove a apine from the paned window"
   ]
  },
  {
   "cell_type": "markdown",
   "metadata": {},
   "source": [
    "<h3>Notebook</h3>"
   ]
  },
  {
   "cell_type": "markdown",
   "metadata": {},
   "source": [
    "[notebook documentation](https://tcl.tk/man/tcl8.6/TkCmd/ttk_notebook.htm)"
   ]
  },
  {
   "cell_type": "markdown",
   "metadata": {},
   "source": [
    "a <b>notebook</b> widget uses the metaphor of a tabbed notebook to let users switch between one of several <i>pages</i> using an index tab, unlike the paned windows, users only see a single page at a time.\""
   ]
  },
  {
   "cell_type": "code",
   "execution_count": 20,
   "metadata": {},
   "outputs": [],
   "source": [
    "from tkinter import *\n",
    "from tkinter import ttk\n",
    "\n",
    "root = Tk()\n",
    "n = ttk.Notebook(root, width=100, height=100)\n",
    "\n",
    "f1 = ttk.Frame(n)\n",
    "f2 = ttk.Frame(n)\n",
    "label1 = ttk.Label(f1, text='This is the first information')\n",
    "label2 = ttk.Label(f2, text='This is the Second information')\n",
    "\n",
    "n.add(f1, text='One')\n",
    "n.add(f2, text='Two')\n",
    "\n",
    "n.grid()\n",
    "label1.grid()\n",
    "label2.grid()\n",
    "\n",
    "root.mainloop()"
   ]
  },
  {
   "cell_type": "markdown",
   "metadata": {},
   "source": [
    "notebook widgets generate a `<<NotebookTabChanged>>` virtual event whenevera  new tab is selected.<br>\n",
    "You can checkout the [command reference](https://tcl.tk/man/tcl8.6/TkCmd/ttk_notebook.htm) for more methods"
   ]
  },
  {
   "cell_type": "markdown",
   "metadata": {},
   "source": []
  }
 ],
 "metadata": {
  "kernelspec": {
   "display_name": "venv",
   "language": "python",
   "name": "python3"
  },
  "language_info": {
   "codemirror_mode": {
    "name": "ipython",
    "version": 3
   },
   "file_extension": ".py",
   "mimetype": "text/x-python",
   "name": "python",
   "nbconvert_exporter": "python",
   "pygments_lexer": "ipython3",
   "version": "3.10.11"
  }
 },
 "nbformat": 4,
 "nbformat_minor": 2
}
